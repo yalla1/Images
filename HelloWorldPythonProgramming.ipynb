{
  "nbformat": 4,
  "nbformat_minor": 0,
  "metadata": {
    "colab": {
      "provenance": [],
      "authorship_tag": "ABX9TyOXn9EzrULKADNxRw6+QSAw",
      "include_colab_link": true
    },
    "kernelspec": {
      "name": "python3",
      "display_name": "Python 3"
    },
    "language_info": {
      "name": "python"
    }
  },
  "cells": [
    {
      "cell_type": "markdown",
      "metadata": {
        "id": "view-in-github",
        "colab_type": "text"
      },
      "source": [
        "<a href=\"https://colab.research.google.com/github/yalla1/Images/blob/main/HelloWorldPythonProgramming.ipynb\" target=\"_parent\"><img src=\"https://colab.research.google.com/assets/colab-badge.svg\" alt=\"Open In Colab\"/></a>"
      ]
    },
    {
      "cell_type": "markdown",
      "source": [
        "# **Turtle cheatsheet**\n"
      ],
      "metadata": {
        "id": "OWkp1V-ewlTG"
      }
    },
    {
      "cell_type": "code",
      "source": [
        "\n",
        "\n",
        "\n",
        "\n",
        "# import turtle            -> import turle library/module\n",
        "# turtle.Screen()          -> Create and return a screen object\n",
        "# wn.bgcolor(\"color\")      -> Set window background color\n",
        "# t.shape(\"turtle\")        -> Set turtle shape\n",
        "# t.speed(0–10)            -> Set animation speed\n",
        "# t.color(pen, fill)       -> Set pen and fill colors\n",
        "# t.forward(), t.left()    -> Move turtle\n",
        "# t.stamp()                -> Leave turtle shape stamp\n",
        "# t.dot(size, color)       -> Draw a dot\n",
        "# t.begin_fill(), end_fill() -> Fill a drawn shape\n",
        "# wn.exitonclick()         -> Wait for click to close the window\n"
      ],
      "metadata": {
        "id": "cZK-uEPSws1N"
      },
      "execution_count": null,
      "outputs": []
    },
    {
      "cell_type": "code",
      "source": [
        "from google.colab import drive\n",
        "drive.mount('/content/drive')"
      ],
      "metadata": {
        "id": "DVY-x4oPPpfq"
      },
      "execution_count": null,
      "outputs": []
    },
    {
      "cell_type": "markdown",
      "source": [
        "Write a program that uses the turtle module **and** a for loop to draw something. It doesn’t have to be complicated, but draw something different than we have done in the past. (Hint: if you are drawing something complicated, it could get tedious to watch it draw over and over. Try setting `.speed(10)` for the turtle to draw fast, or `.speed(0)` for it to draw super fast with no animation.)"
      ],
      "metadata": {
        "id": "A4oYJl4jZP9L"
      }
    },
    {
      "cell_type": "code",
      "source": [],
      "metadata": {
        "id": "AnY0xlwpZPne"
      },
      "execution_count": null,
      "outputs": []
    },
    {
      "cell_type": "markdown",
      "source": [
        "Create an empty string and assign it to the variable `lett`. Then using range, write code such that when your code is run, lett has 7 b’s (\"`bbbbbbb`\").\n"
      ],
      "metadata": {
        "id": "g5ZK5StRYcjn"
      }
    },
    {
      "cell_type": "code",
      "source": [
        "lett=\"\"\n",
        "for l in range(7):\n",
        "  lett = lett + \"b\"\n",
        "print(lett)"
      ],
      "metadata": {
        "id": "lRaCKmE0YcPH"
      },
      "execution_count": null,
      "outputs": []
    },
    {
      "cell_type": "markdown",
      "source": [
        "Write code to create a l**ist of word lengths** for the words in `original_str` using the accumulation pattern and assign the answer to a variable `num_words_list`. (You should use the `len` function)."
      ],
      "metadata": {
        "id": "yXJsxQueIkKJ"
      }
    },
    {
      "cell_type": "code",
      "source": [
        "original_str = \"The quick brown rhino jumped over the extremely lazy fox\"\n",
        "words = original_str.split()\n",
        "num_words_list = []\n",
        "\n",
        "for word in words:\n",
        "  word_lengths = [len(word)]\n",
        "  num_words_list=num_words_list + word_lengths ## list Concatenation\n",
        "  # print(word_lengths)\n",
        "print(num_words_list)"
      ],
      "metadata": {
        "id": "HnkLv8_EIj-7"
      },
      "execution_count": null,
      "outputs": []
    },
    {
      "cell_type": "markdown",
      "source": [
        "Write code to create a list of numbers from 0 to 67 and assign that list to the variable nums. Do not hard code the list."
      ],
      "metadata": {
        "id": "oBtxmthtIJkR"
      }
    },
    {
      "cell_type": "code",
      "source": [
        "first = \"Hello\"\n",
        "second = \"World\"\n",
        "\n",
        "# Combine into a list\n",
        "result_list = [first, second]\n",
        "\n",
        "print(result_list)\n",
        "\n"
      ],
      "metadata": {
        "id": "D0IadGbNQ6YG"
      },
      "execution_count": null,
      "outputs": []
    },
    {
      "cell_type": "code",
      "source": [
        "nums=list(range(68))\n",
        "print(nums)"
      ],
      "metadata": {
        "id": "aZHcsOXhIJOZ"
      },
      "execution_count": null,
      "outputs": []
    },
    {
      "cell_type": "code",
      "source": [
        "week_temps_f = \"75.1,77.7,83.2,82.5,81.0,79.5,85.7\"\n",
        "temps = week_temps_f.split(',')\n",
        "n=0\n",
        "for temp in temps:\n",
        "    n=n+1\n",
        "    print(n)"
      ],
      "metadata": {
        "id": "yPXInnW2rO3P"
      },
      "execution_count": null,
      "outputs": []
    },
    {
      "cell_type": "code",
      "source": [
        "week_temps_f = \"75.1,77.7,83.2,82.5,81.0,79.5,85.7\"\n",
        "temps = week_temps_f.split(',')\n",
        "avg_temp = 0.0\n",
        "temp_sum = 0.0\n",
        "n=0\n",
        "print(temps)\n",
        "for temp in temps:\n",
        "    temp = float(temp)\n",
        "    temp_sum = float(temp_sum + temp)\n",
        "    n=n+1\n",
        "    avg_temp = float(temp_sum/n)\n",
        "    print('n = ', n, \"temp_sum = \", temp_sum, \"average = \",avg_temp)\n",
        "print('Average = ', avg_temp)\n",
        "\n",
        "\n",
        "\n",
        "# b = \"My, what a lovely day\"\n",
        "# x = b.split(',')\n",
        "# z = ''.join(x)\n",
        "# y = z.split()\n",
        "\n",
        "# a = \"\".join(y)\n",
        "# print(x)\n",
        "# print(z)\n",
        "# print(y)\n",
        "# print(a)\n"
      ],
      "metadata": {
        "id": "LD4SzLHSf_Lw"
      },
      "execution_count": null,
      "outputs": []
    },
    {
      "cell_type": "code",
      "source": [
        "red = \"colors\"\n",
        "for blue in red:\n",
        "    print(blue)"
      ],
      "metadata": {
        "id": "HkMt4-DEcRDY"
      },
      "execution_count": null,
      "outputs": []
    },
    {
      "cell_type": "code",
      "source": [
        "n = [\"word\", \"phrase\", 8, (\"beam\")]\n",
        "for item in n:\n",
        "    print(item)\n",
        "\n",
        "print(type(n))"
      ],
      "metadata": {
        "id": "u1KrraGpbHgp"
      },
      "execution_count": null,
      "outputs": []
    },
    {
      "cell_type": "markdown",
      "source": [
        "# **Read and display images**\n",
        "\n",
        "\n",
        "1.   Install colabTurle\n",
        "2.   List item\n",
        "\n",
        "\n",
        "\n"
      ],
      "metadata": {
        "id": "wjzyXGIDAdT-"
      }
    },
    {
      "cell_type": "code",
      "source": [
        "!pip3 install ColabTurtle"
      ],
      "metadata": {
        "collapsed": true,
        "id": "ssfNcziMCUuZ"
      },
      "execution_count": null,
      "outputs": []
    },
    {
      "cell_type": "code",
      "source": [
        "import ColabTurtle.Turtle as star\n",
        "star.initializeTurtle()\n",
        "\n"
      ],
      "metadata": {
        "collapsed": true,
        "id": "_OOi6XCIE_f5"
      },
      "execution_count": null,
      "outputs": []
    },
    {
      "cell_type": "code",
      "source": [
        "\n",
        "star.pencolor(\"yellow\")\n",
        "star.pensize(10)\n",
        "star.hideturtle()\n",
        "#star.shape(\"circle\")\n",
        "star.speed(3)\n",
        "\n",
        "dist = 50\n",
        "for _ in range(5):\n",
        "    star.forward(dist)\n",
        "    star.left(72)\n",
        "    #star.stamp()\n",
        "    star.forward(dist)\n",
        "    star.right(144)\n",
        "    #star.stamp()\n",
        "\n",
        "t = (5,)\n",
        "print(type(t))\n",
        "\n",
        "x = (5)\n",
        "print(type(x))"
      ],
      "metadata": {
        "collapsed": true,
        "id": "XsL95gdkEN0k"
      },
      "execution_count": null,
      "outputs": []
    },
    {
      "cell_type": "code",
      "source": [
        "import turtle\n",
        "wn = turtle.Screen()\n",
        "wn.bgcolor(\"black\")\n",
        "\n",
        "star = turtle.Turtle()\n",
        "star.setx(-75)\n",
        "star.pencolor(\"yellow\")\n",
        "star.pensize(10)\n",
        "star.hideturtle()\n",
        "#star.shape(\"circle\")\n",
        "star.speed(3)\n",
        "\n",
        "\n",
        "dist = 50\n",
        "for _ in range(5):\n",
        "    star.forward(dist)\n",
        "    star.left(72)\n",
        "    #star.stamp()\n",
        "    star.forward(dist)\n",
        "    star.right(144)\n",
        "    #star.stamp()\n",
        "\n",
        "t = (5,)\n",
        "print(type(t))\n",
        "\n",
        "x = (5)\n",
        "print(type(x))"
      ],
      "metadata": {
        "id": "Vw2fNv4CAc6n"
      },
      "execution_count": null,
      "outputs": []
    },
    {
      "cell_type": "code",
      "source": [
        "for i in range(3):\n",
        "    for j in range(2):\n",
        "        print(i, j)"
      ],
      "metadata": {
        "id": "eHkQYGyJig0B"
      },
      "execution_count": null,
      "outputs": []
    },
    {
      "cell_type": "code",
      "source": [
        "for i in range(5):\n",
        "    for j in range(3):\n",
        "        print(i, j)"
      ],
      "metadata": {
        "id": "8Fq5aTlggEq7"
      },
      "execution_count": null,
      "outputs": []
    },
    {
      "cell_type": "code",
      "source": [
        "for i in range(5):\n",
        "    print(i)"
      ],
      "metadata": {
        "id": "Y7Rcuw2K5N6X"
      },
      "execution_count": null,
      "outputs": []
    },
    {
      "cell_type": "code",
      "source": [
        "s = \"python\"\n",
        "for idx in range(len(s)):\n",
        "   print(s[idx % 2])"
      ],
      "metadata": {
        "id": "Ci-LnXwa0rn0"
      },
      "execution_count": null,
      "outputs": []
    },
    {
      "cell_type": "markdown",
      "source": [],
      "metadata": {
        "id": "jw3mCtjg0rZq"
      }
    },
    {
      "cell_type": "markdown",
      "source": [
        "Create a list of numbers 0 through 40 and assign this list to the variable numbers. Then, accumulate the total of the list’s values and assign that sum to the variable sum1.\n"
      ],
      "metadata": {
        "id": "yDWCFlewDBLW"
      }
    },
    {
      "cell_type": "code",
      "source": [
        "numbers = list(range(41))\n",
        "sum1 = 0\n",
        "for s in numbers:\n",
        "  sum1=sum1+s\n",
        "print(sum1)\n"
      ],
      "metadata": {
        "id": "5gfbqfjvcvJm"
      },
      "execution_count": null,
      "outputs": []
    },
    {
      "cell_type": "code",
      "source": [
        "str1 = \"I like nonsense, it wakes up the brain cells. Fantasy is a necessary ingredient in living.\"\n",
        "numbs = 0\n",
        "for s in str1:\n",
        "  numbs=numbs+1\n",
        "print(numbs)\n"
      ],
      "metadata": {
        "id": "LbKzpRVdakoJ"
      },
      "execution_count": null,
      "outputs": []
    },
    {
      "cell_type": "code",
      "source": [
        "numbers = list(range(53))\n",
        "print(numbers)"
      ],
      "metadata": {
        "id": "ovxp17sZZW-5"
      },
      "execution_count": null,
      "outputs": []
    },
    {
      "cell_type": "code",
      "source": [
        "print(\"simple range: \",(range(10)))\n",
        "print(list(range(3)))"
      ],
      "metadata": {
        "id": "bxncND5bUqS9"
      },
      "execution_count": null,
      "outputs": []
    },
    {
      "cell_type": "code",
      "source": [
        "for name in [\"Joe\", \"Amy\", \"Brad\", \"Angelina\", \"Zuki\", \"Thandi\", \"Paris\"]:\n",
        "    print(\"Hi\", name, \"Please come to my party on Saturday!\")"
      ],
      "metadata": {
        "id": "lnoC_njCTt9x"
      },
      "execution_count": null,
      "outputs": []
    },
    {
      "cell_type": "code",
      "source": [
        "b = \"My, what a lovely day\"\n",
        "x = b.split(',')\n",
        "z = ''.join(x)\n",
        "y = z.split()\n",
        "\n",
        "a = \"\".join(y)\n",
        "print(x)\n",
        "print(z)\n",
        "print(y)\n",
        "print(a)\n"
      ],
      "metadata": {
        "id": "NCPmQLM2Pgq9"
      },
      "execution_count": null,
      "outputs": []
    },
    {
      "cell_type": "code",
      "source": [
        "b = \"My, what a lovely day\"\n",
        "x = b.split(',')\n",
        "print(x)\n",
        "print(type(x))\n",
        "\n",
        "b = \"My, what a lovely day\"\n",
        "x = b.split(',')\n",
        "z = \"\".join(x)\n",
        "y = z.split()\n",
        "\n",
        "\n",
        "print(\"\")\n",
        "print(\"VALUE OF Z: \",z)\n",
        "print(\"\")\n",
        "print(\"VALUE OF y: \",y)\n",
        "print(\"\")\n",
        "print(\"VALUE OF a: \",a)\n",
        "print(type(a))"
      ],
      "metadata": {
        "id": "Qj3VZbbkI6yQ"
      },
      "execution_count": null,
      "outputs": []
    },
    {
      "cell_type": "code",
      "source": [
        "l = ['w', '7', 0, 9]\n",
        "m = l[1:2]\n",
        "print(type(m))\n",
        "\n",
        "l = ['w', '7', 0, 9]\n",
        "m = l[1]\n",
        "print(type(m))"
      ],
      "metadata": {
        "id": "YTzSCkZ6IZbh"
      },
      "execution_count": null,
      "outputs": []
    },
    {
      "cell_type": "code",
      "source": [
        "ls = ['run', 'world', 'travel', 'lights', 'moon', 'baseball', 'sea']\n",
        "new = ls[2:4]\n",
        "print(new)"
      ],
      "metadata": {
        "id": "L7macK1RIR5Z"
      },
      "execution_count": null,
      "outputs": []
    },
    {
      "cell_type": "code",
      "source": [
        "by = \"You are\"\n",
        "az = \"doing a great \"\n",
        "io = \"job\"\n",
        "qy = \"keep it up!\"\n",
        "message = by + \" \" + az + io + \", \" + qy\n",
        "print(message)"
      ],
      "metadata": {
        "id": "lBcb4v0uG1BX"
      },
      "execution_count": null,
      "outputs": []
    },
    {
      "cell_type": "code",
      "source": [
        "sports = ['cricket', 'football', 'volleyball', 'baseball', 'softball', 'track and field', 'curling', 'ping pong', 'hockey']\n",
        "last = sports[-3:-1]\n",
        "print(last)"
      ],
      "metadata": {
        "id": "LZM6aC3MGcXu"
      },
      "execution_count": null,
      "outputs": []
    },
    {
      "cell_type": "code",
      "source": [
        "julia = (\"Julia\", \"Roberts\", 1967, \"Duplicity\", 2009, \"Actress\", \"Atlanta, Georgia\")\n",
        "print(julia[2])\n",
        "print(julia[2:6])\n",
        "\n",
        "print(len(julia))\n",
        "\n",
        "julia = julia[:3] + (\"Eat Pray Love\", 2010) + julia[5:]\n",
        "print(julia)\n"
      ],
      "metadata": {
        "id": "_PWb84r3oI_v"
      },
      "execution_count": null,
      "outputs": []
    },
    {
      "cell_type": "code",
      "source": [],
      "metadata": {
        "id": "Kn7blr8muOEJ"
      },
      "execution_count": null,
      "outputs": []
    },
    {
      "cell_type": "code",
      "source": [
        "import turtle\n",
        "wn = turtle.Screen()\n",
        "wn.bgcolor(\"black\")\n",
        "\n",
        "star = turtle.Turtle()\n",
        "star.setx(-75)\n",
        "star.pencolor(\"yellow\")\n",
        "star.pensize(10)\n",
        "star.hideturtle()\n",
        "#star.shape(\"circle\")\n",
        "star.speed(3)\n",
        "\n",
        "\n",
        "dist = 50\n",
        "for _ in range(5):\n",
        "    star.forward(dist)\n",
        "    star.left(72)\n",
        "    #star.stamp()\n",
        "    star.forward(dist)\n",
        "    star.right(144)\n",
        "    #star.stamp()\n"
      ],
      "metadata": {
        "id": "7cO2JCL03skO"
      },
      "execution_count": null,
      "outputs": []
    },
    {
      "cell_type": "code",
      "source": [
        "x=10//3\n",
        "print(x)\n",
        "print(10//3)"
      ],
      "metadata": {
        "id": "Bz9I8Dkb2-UR"
      },
      "execution_count": null,
      "outputs": []
    },
    {
      "cell_type": "code",
      "source": [
        "\n",
        "print(\"doesn't\")\n",
        "print('''doesn't''')\n",
        "print('Python'[2:5])\n",
        "print(len('supercalifragilisticexpialidocious'))\n",
        "\n",
        "\n",
        "text = \"Good morning!\"\n",
        "print(text[0])\n",
        "print(text[1])\n",
        "print(text[2])\n",
        "print(text[3])\n",
        "print(text[4])\n",
        "print(text[5])\n",
        "\n",
        "squares = [1, 4, 9, 16, 25]\n",
        "print(squares[0:3])\n",
        "print(squares[-3:])\n",
        "print(squares[-3:-6:-1])\n"
      ],
      "metadata": {
        "id": "LqB7bAwxpyIh"
      },
      "execution_count": null,
      "outputs": []
    },
    {
      "cell_type": "code",
      "source": [],
      "metadata": {
        "id": "6SeTMJSP29eK"
      },
      "execution_count": null,
      "outputs": []
    },
    {
      "cell_type": "code",
      "source": [
        "code = int(input(\"Enter a number: \"))\n",
        "match code:\n",
        "    case 200:\n",
        "        print(\"OK\")\n",
        "    case 404:\n",
        "        print(\"Not Found\")\n",
        "    case _:\n",
        "        print(\"Other\")\n"
      ],
      "metadata": {
        "id": "AMz2tTwltp61"
      },
      "execution_count": null,
      "outputs": []
    },
    {
      "cell_type": "code",
      "source": [
        "for i in range(3):\n",
        "    if i == 2:\n",
        "        print(range(i))\n",
        "        print(\"Break occurred\")\n",
        "        break\n",
        "\n",
        "else:\n",
        "    print(\"No break occurred\")\n"
      ],
      "metadata": {
        "id": "AVruCSLIsvmG"
      },
      "execution_count": null,
      "outputs": []
    },
    {
      "cell_type": "code",
      "source": [
        "for i in range(5):\n",
        "    print(i)\n"
      ],
      "metadata": {
        "id": "fNQClWVJsmyM"
      },
      "execution_count": null,
      "outputs": []
    },
    {
      "cell_type": "code",
      "source": [
        "# Measure some strings:\n",
        "words = ['cat', 'window', 'defenestrate']\n",
        "for w in words:\n",
        "    print(w, len(w))"
      ],
      "metadata": {
        "id": "apIL-uGdpUFk"
      },
      "execution_count": null,
      "outputs": []
    },
    {
      "cell_type": "code",
      "source": [
        "x = int(input(\"Please enter an integer: \"))\n",
        "\n",
        "if x < 0:\n",
        "    x = 0\n",
        "    print('Negative changed to zero')\n",
        "elif x == 0:\n",
        "    print('Zero')\n",
        "elif x == 1:\n",
        "    print('Single')\n",
        "else:\n",
        "    print('More')"
      ],
      "metadata": {
        "id": "6KlAlLQyjIkA"
      },
      "execution_count": null,
      "outputs": []
    },
    {
      "cell_type": "markdown",
      "source": [],
      "metadata": {
        "id": "LBDysHy0ouWo"
      }
    },
    {
      "cell_type": "code",
      "source": [
        "x = int(input(\"please enter an integer: \"))\n",
        "\n",
        "if x < 0:\n",
        "  x = 0\n",
        "  print('Negative changed to zero')\n",
        "elif x == 0:\n",
        "  print('Zero')\n",
        "elif x == 1:\n",
        "  print(\"single\")\n",
        "else:\n",
        "  print(\"more\")"
      ],
      "metadata": {
        "id": "0DGnid0Tk79j"
      },
      "execution_count": null,
      "outputs": []
    },
    {
      "cell_type": "code",
      "source": [
        "print(range(5))"
      ],
      "metadata": {
        "id": "BHaNG2LyWpYY"
      },
      "execution_count": null,
      "outputs": []
    },
    {
      "cell_type": "code",
      "source": [
        "list(range(5))"
      ],
      "metadata": {
        "id": "Bwr3t5p5W41b"
      },
      "execution_count": null,
      "outputs": []
    },
    {
      "cell_type": "code",
      "source": [
        "'\"Yes,\" they said.'\n"
      ],
      "metadata": {
        "id": "VPUtmcw2j_Ut"
      },
      "execution_count": null,
      "outputs": []
    },
    {
      "cell_type": "code",
      "source": [
        "\n",
        "\"doesn't\"  # ...or use double quotes instead\n"
      ],
      "metadata": {
        "id": "7WwfIqyskFDM"
      },
      "execution_count": null,
      "outputs": []
    },
    {
      "cell_type": "code",
      "execution_count": null,
      "metadata": {
        "id": "UguMLpE7gtYB"
      },
      "outputs": [],
      "source": [
        "tax = 12.5 / 100\n",
        "price = 100.50\n",
        "price * tax\n",
        "\n",
        "price + _\n",
        "\n",
        "round(_, 2)\n"
      ]
    },
    {
      "cell_type": "code",
      "source": [
        "tax = 12.5 / 100\n",
        "price = 100.50\n",
        "price * tax"
      ],
      "metadata": {
        "id": "fPAhH6VUiZ79"
      },
      "execution_count": null,
      "outputs": []
    },
    {
      "cell_type": "markdown",
      "source": [
        "Assign the value of the last chacter of lst to the variable output. Do this so that the length of lst doesn’t matter."
      ],
      "metadata": {
        "id": "qHN86g4h9YRa"
      }
    },
    {
      "cell_type": "code",
      "source": [
        "lst = \"Every chess or checkers game begins from the same position and has a finite number of moves that can be played. While the number of possible scenarios and moves is quite large, it is still possible for computers to calculate that number and even be programmed to respond well against a human player...\"\n",
        "output = lst[-1]\n",
        "print(output)"
      ],
      "metadata": {
        "id": "93pE7_uN9dJq"
      },
      "execution_count": null,
      "outputs": []
    },
    {
      "cell_type": "markdown",
      "source": [
        "Assign the number of elements in lst to the variable num_lst."
      ],
      "metadata": {
        "id": "RpBB7qho-uqH"
      }
    },
    {
      "cell_type": "code",
      "source": [
        "lst = [\"hi\", \"goodbye\", \"python\", \"106\", \"506\", 91, ['all', 'Paul', 'Jackie', \"UMSI\", 1, \"Stephen\", 4.5], 109, \"chair\", \"pizza\", \"wolverine\", 2017, 3.92, 1817, \"account\", \"readings\", \"papers\", 12, \"facebook\", \"twitter\", 193.2, \"snapchat\", \"leaders and the best\", \"social\", \"1986\", 9, 29, \"holiday\", [\"women\", \"olympics\", \"gold\", \"rio\", 21, \"2016\", \"men\"], \"26trombones\"]\n",
        "num_lst=len(lst)\n",
        "print(num_lst)"
      ],
      "metadata": {
        "id": "2BvAfiir-wHr"
      },
      "execution_count": null,
      "outputs": []
    },
    {
      "cell_type": "markdown",
      "source": [
        "Create a new list using the 9th through 12th elements (four items in all) of new_lst and assign it to the variable sub_lst."
      ],
      "metadata": {
        "id": "gxygIM-W_CeW"
      }
    },
    {
      "cell_type": "code",
      "source": [
        "new_lst = [\"computer\", \"luxurious\", \"basket\", \"crime\", 0, 2.49, \"institution\", \"slice\", \"sun\", [\"water\", \"air\", \"fire\", \"earth\"], \"games\", 2.7, \"code\", \"java\", [\"birthday\", \"celebration\", 1817, \"party\", \"cake\", 5], \"rain\", \"thunderstorm\", \"top down\"]\n",
        "\n",
        "sub_lst=new_lst[8:12]\n",
        "print(sub_lst)\n"
      ],
      "metadata": {
        "id": "jzmofuHC_DWw"
      },
      "execution_count": null,
      "outputs": []
    },
    {
      "cell_type": "markdown",
      "source": [
        "What will be stored in the variable ty below?"
      ],
      "metadata": {
        "id": "Q9XIoL4O_wU5"
      }
    },
    {
      "cell_type": "code",
      "source": [
        "qu = \"wow, welcome week! Were you wanting to go?\"\n",
        "ty = qu.count(\"we\")\n",
        "print(ty)"
      ],
      "metadata": {
        "id": "9sPGQTmh_xnR"
      },
      "execution_count": null,
      "outputs": []
    },
    {
      "cell_type": "markdown",
      "source": [
        "Create a variable output and assign to it a list whose elements are the words in the string str1."
      ],
      "metadata": {
        "id": "qJDzwTybABQj"
      }
    },
    {
      "cell_type": "code",
      "source": [
        "str1 = \"OH THE PLACES YOU'LL GO\"\n",
        "output = str1.split()\n",
        "print(output)"
      ],
      "metadata": {
        "id": "ZZJZeyS9AARV"
      },
      "execution_count": null,
      "outputs": []
    },
    {
      "cell_type": "markdown",
      "source": [
        "How many times will the for loop iterate in the following statements?"
      ],
      "metadata": {
        "id": "0gwGZc5LA53K"
      }
    },
    {
      "cell_type": "code",
      "source": [
        "p = [3, 4, \"Me\", 3, [], \"Why\", 0, \"Tell\", 9.3]\n",
        "for ch in p:\n",
        "   print(ch)"
      ],
      "metadata": {
        "id": "-qNJpZyNA7SJ"
      },
      "execution_count": null,
      "outputs": []
    },
    {
      "cell_type": "markdown",
      "source": [
        "Create a list of numbers 0 through 40 and assign this list to the variable numbers. Then, accumulate the total of the list’s values and assign that sum to the variable sum1.\n",
        "\n"
      ],
      "metadata": {
        "id": "gF-RbA5jBO-7"
      }
    },
    {
      "cell_type": "code",
      "source": [
        "numbers=list(range(0,41))\n",
        "sum1=0\n",
        "for number in numbers:\n",
        "  #print(number)\n",
        "  sum1 += number\n",
        "print(sum1)"
      ],
      "metadata": {
        "id": "GpoLOSnVBVdz"
      },
      "execution_count": null,
      "outputs": []
    },
    {
      "cell_type": "markdown",
      "source": [
        "addition_str is a string with a list of numbers separated by the + sign. Write code that uses the accumulation pattern to take the sum of all of the numbers and assigns it to sum_val (an integer). (You should use the .split(\"+\") function to split by \"+\" and int() to cast to an integer)."
      ],
      "metadata": {
        "id": "HxNwv8E3Db6a"
      }
    },
    {
      "cell_type": "code",
      "source": [
        "addition_str = \"2+5+10+20\"\n",
        "addition_str = addition_str.split(\"+\")\n",
        "sum_val = 0\n",
        "for number in addition_str:\n",
        "  sum_val += int(number)\n",
        "print(sum_val)"
      ],
      "metadata": {
        "id": "NlKIJtOWDd13"
      },
      "execution_count": null,
      "outputs": []
    },
    {
      "cell_type": "markdown",
      "source": [
        "What is the type of your iterable?\n",
        "1. z = Iterator Variable\n",
        "1. t = iterable"
      ],
      "metadata": {
        "id": "kpf0dT5SEqG4"
      }
    },
    {
      "cell_type": "code",
      "source": [
        "t = (\"couch\", \"chair\", \"washer\", \"dryer\", \"table\")\n",
        "for z in t:\n",
        "    print(z)"
      ],
      "metadata": {
        "id": "DJxcgxLbErJH"
      },
      "execution_count": null,
      "outputs": []
    },
    {
      "cell_type": "code",
      "source": [
        "# prompt: Write code that uses slicing to get rid of the the second 8 so that here are only two 8’s in the list bound to the variable nums. don't hardcode the index using slice\n",
        "# nums = [4, 2, 8, 23.4, 8, 9, 545, 9, 1, 234.001, 5, 49, 8, 9 , 34, 52, 1, -2, 9.1, 4]\n",
        "\n",
        "nums = [4, 2, 8, 23.4, 8, 9, 545, 9, 1, 234.001, 5, 49, 8, 9 , 34, 52, 1, -2, 9.1, 4]\n",
        "second_8_index = nums.index(8, nums.index(8) + 1)\n",
        "nums = nums[:second_8_index] + nums[second_8_index+1:]\n",
        "nums\n"
      ],
      "metadata": {
        "id": "iANqINMhFH_G"
      },
      "execution_count": null,
      "outputs": []
    },
    {
      "cell_type": "code",
      "source": [
        "# prompt: Write code to determine how many 9’s are in the list nums and assign that value to the variable how_many. Do not use a for loop to do this.\n",
        "# nums = [4, 2, 23.4, 9, 545, 9, 1, 234.001, 5, 49, 8, 9 , 34, 52, 1, -2, 9.1, 4]\n",
        "\n",
        "nums = [4, 2, 23.4, 9, 545, 9, 1, 234.001, 5, 49, 8, 9 , 34, 52, 1, -2, 9.1, 4]\n",
        "how_many = nums.count(9)\n",
        "how_many\n"
      ],
      "metadata": {
        "id": "4GdOLmkKOwHK"
      },
      "execution_count": null,
      "outputs": []
    }
  ]
}