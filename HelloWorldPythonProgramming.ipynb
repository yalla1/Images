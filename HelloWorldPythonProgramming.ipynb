{
  "nbformat": 4,
  "nbformat_minor": 0,
  "metadata": {
    "colab": {
      "provenance": [],
      "authorship_tag": "ABX9TyP0GIvjl8+PTPiZfSd/gq3z",
      "include_colab_link": true
    },
    "kernelspec": {
      "name": "python3",
      "display_name": "Python 3"
    },
    "language_info": {
      "name": "python"
    }
  },
  "cells": [
    {
      "cell_type": "markdown",
      "metadata": {
        "id": "view-in-github",
        "colab_type": "text"
      },
      "source": [
        "<a href=\"https://colab.research.google.com/github/yalla1/Images/blob/main/HelloWorldPythonProgramming.ipynb\" target=\"_parent\"><img src=\"https://colab.research.google.com/assets/colab-badge.svg\" alt=\"Open In Colab\"/></a>"
      ]
    },
    {
      "cell_type": "markdown",
      "source": [
        "# **Turtle cheatsheet**\n"
      ],
      "metadata": {
        "id": "OWkp1V-ewlTG"
      }
    },
    {
      "cell_type": "code",
      "source": [
        "\n",
        "\n",
        "\n",
        "\n",
        "# import turtle            -> import turle library/module\n",
        "# turtle.Screen()          -> Create and return a screen object\n",
        "# wn.bgcolor(\"color\")      -> Set window background color\n",
        "# t.shape(\"turtle\")        -> Set turtle shape\n",
        "# t.speed(0–10)            -> Set animation speed\n",
        "# t.color(pen, fill)       -> Set pen and fill colors\n",
        "# t.forward(), t.left()    -> Move turtle\n",
        "# t.stamp()                -> Leave turtle shape stamp\n",
        "# t.dot(size, color)       -> Draw a dot\n",
        "# t.begin_fill(), end_fill() -> Fill a drawn shape\n",
        "# wn.exitonclick()         -> Wait for click to close the window\n"
      ],
      "metadata": {
        "id": "cZK-uEPSws1N"
      },
      "execution_count": null,
      "outputs": []
    },
    {
      "cell_type": "code",
      "source": [
        "from google.colab import drive\n",
        "drive.mount('/content/drive')"
      ],
      "metadata": {
        "id": "DVY-x4oPPpfq"
      },
      "execution_count": null,
      "outputs": []
    },
    {
      "cell_type": "markdown",
      "source": [
        "Write a program that uses the turtle module **and** a for loop to draw something. It doesn’t have to be complicated, but draw something different than we have done in the past. (Hint: if you are drawing something complicated, it could get tedious to watch it draw over and over. Try setting `.speed(10)` for the turtle to draw fast, or `.speed(0)` for it to draw super fast with no animation.)"
      ],
      "metadata": {
        "id": "A4oYJl4jZP9L"
      }
    },
    {
      "cell_type": "code",
      "source": [],
      "metadata": {
        "id": "AnY0xlwpZPne"
      },
      "execution_count": null,
      "outputs": []
    },
    {
      "cell_type": "markdown",
      "source": [
        "Create an empty string and assign it to the variable `lett`. Then using range, write code such that when your code is run, lett has 7 b’s (\"`bbbbbbb`\").\n"
      ],
      "metadata": {
        "id": "g5ZK5StRYcjn"
      }
    },
    {
      "cell_type": "code",
      "source": [
        "lett=\"\"\n",
        "for l in range(7):\n",
        "  lett = lett + \"b\"\n",
        "print(lett)"
      ],
      "metadata": {
        "colab": {
          "base_uri": "https://localhost:8080/"
        },
        "id": "lRaCKmE0YcPH",
        "outputId": "5efd12d9-7a22-4af4-ffc4-044db7d59054"
      },
      "execution_count": null,
      "outputs": [
        {
          "output_type": "stream",
          "name": "stdout",
          "text": [
            "bbbbbbb\n"
          ]
        }
      ]
    },
    {
      "cell_type": "markdown",
      "source": [
        "Write code to create a l**ist of word lengths** for the words in `original_str` using the accumulation pattern and assign the answer to a variable `num_words_list`. (You should use the `len` function)."
      ],
      "metadata": {
        "id": "yXJsxQueIkKJ"
      }
    },
    {
      "cell_type": "code",
      "source": [
        "original_str = \"The quick brown rhino jumped over the extremely lazy fox\"\n",
        "words = original_str.split()\n",
        "num_words_list = []\n",
        "\n",
        "for word in words:\n",
        "  word_lengths = [len(word)]\n",
        "  num_words_list=num_words_list + word_lengths ## list Concatenation\n",
        "  # print(word_lengths)\n",
        "print(num_words_list)"
      ],
      "metadata": {
        "colab": {
          "base_uri": "https://localhost:8080/"
        },
        "id": "HnkLv8_EIj-7",
        "outputId": "eca9fc4a-1a9f-46ba-f2e9-679b6f21c2f5"
      },
      "execution_count": null,
      "outputs": [
        {
          "output_type": "stream",
          "name": "stdout",
          "text": [
            "[3, 5, 5, 5, 6, 4, 3, 9, 4, 3]\n"
          ]
        }
      ]
    },
    {
      "cell_type": "markdown",
      "source": [
        "Write code to create a list of numbers from 0 to 67 and assign that list to the variable nums. Do not hard code the list."
      ],
      "metadata": {
        "id": "oBtxmthtIJkR"
      }
    },
    {
      "cell_type": "code",
      "source": [
        "first = \"Hello\"\n",
        "second = \"World\"\n",
        "\n",
        "# Combine into a list\n",
        "result_list = [first, second]\n",
        "\n",
        "print(result_list)\n",
        "\n"
      ],
      "metadata": {
        "colab": {
          "base_uri": "https://localhost:8080/"
        },
        "id": "D0IadGbNQ6YG",
        "outputId": "00341a48-61dd-4035-8b45-369c4d7db1b7"
      },
      "execution_count": null,
      "outputs": [
        {
          "output_type": "stream",
          "name": "stdout",
          "text": [
            "['Hello', 'World']\n"
          ]
        }
      ]
    },
    {
      "cell_type": "code",
      "source": [
        "nums=list(range(68))\n",
        "print(nums)"
      ],
      "metadata": {
        "colab": {
          "base_uri": "https://localhost:8080/"
        },
        "id": "aZHcsOXhIJOZ",
        "outputId": "033a2664-8527-4172-bfc5-48a41ab0b430"
      },
      "execution_count": null,
      "outputs": [
        {
          "output_type": "stream",
          "name": "stdout",
          "text": [
            "[0, 1, 2, 3, 4, 5, 6, 7, 8, 9, 10, 11, 12, 13, 14, 15, 16, 17, 18, 19, 20, 21, 22, 23, 24, 25, 26, 27, 28, 29, 30, 31, 32, 33, 34, 35, 36, 37, 38, 39, 40, 41, 42, 43, 44, 45, 46, 47, 48, 49, 50, 51, 52, 53, 54, 55, 56, 57, 58, 59, 60, 61, 62, 63, 64, 65, 66, 67]\n"
          ]
        }
      ]
    },
    {
      "cell_type": "code",
      "source": [
        "week_temps_f = \"75.1,77.7,83.2,82.5,81.0,79.5,85.7\"\n",
        "temps = week_temps_f.split(',')\n",
        "n=0\n",
        "for temp in temps:\n",
        "    n=n+1\n",
        "    print(n)"
      ],
      "metadata": {
        "colab": {
          "base_uri": "https://localhost:8080/"
        },
        "id": "yPXInnW2rO3P",
        "outputId": "1af5faf2-17ba-48fe-a937-e7d26494a31c"
      },
      "execution_count": null,
      "outputs": [
        {
          "output_type": "stream",
          "name": "stdout",
          "text": [
            "1\n",
            "2\n",
            "3\n",
            "4\n",
            "5\n",
            "6\n",
            "7\n"
          ]
        }
      ]
    },
    {
      "cell_type": "code",
      "source": [
        "week_temps_f = \"75.1,77.7,83.2,82.5,81.0,79.5,85.7\"\n",
        "temps = week_temps_f.split(',')\n",
        "avg_temp = 0.0\n",
        "temp_sum = 0.0\n",
        "n=0\n",
        "print(temps)\n",
        "for temp in temps:\n",
        "    temp = float(temp)\n",
        "    temp_sum = float(temp_sum + temp)\n",
        "    n=n+1\n",
        "    avg_temp = float(temp_sum/n)\n",
        "    print('n = ', n, \"temp_sum = \", temp_sum, \"average = \",avg_temp)\n",
        "print('Average = ', avg_temp)\n",
        "\n",
        "\n",
        "\n",
        "# b = \"My, what a lovely day\"\n",
        "# x = b.split(',')\n",
        "# z = ''.join(x)\n",
        "# y = z.split()\n",
        "\n",
        "# a = \"\".join(y)\n",
        "# print(x)\n",
        "# print(z)\n",
        "# print(y)\n",
        "# print(a)\n"
      ],
      "metadata": {
        "colab": {
          "base_uri": "https://localhost:8080/"
        },
        "id": "LD4SzLHSf_Lw",
        "outputId": "750a0de2-97e2-4ca2-d5ac-44833469571b"
      },
      "execution_count": null,
      "outputs": [
        {
          "output_type": "stream",
          "name": "stdout",
          "text": [
            "['75.1', '77.7', '83.2', '82.5', '81.0', '79.5', '85.7']\n",
            "n =  1 temp_sum =  75.1 average =  75.1\n",
            "n =  2 temp_sum =  152.8 average =  76.4\n",
            "n =  3 temp_sum =  236.0 average =  78.66666666666667\n",
            "n =  4 temp_sum =  318.5 average =  79.625\n",
            "n =  5 temp_sum =  399.5 average =  79.9\n",
            "n =  6 temp_sum =  479.0 average =  79.83333333333333\n",
            "n =  7 temp_sum =  564.7 average =  80.67142857142858\n",
            "Average =  80.67142857142858\n"
          ]
        }
      ]
    },
    {
      "cell_type": "code",
      "source": [
        "red = \"colors\"\n",
        "for blue in red:\n",
        "    print(blue)"
      ],
      "metadata": {
        "colab": {
          "base_uri": "https://localhost:8080/"
        },
        "id": "HkMt4-DEcRDY",
        "outputId": "96723411-9504-4f3c-ac13-014d7f28d6df"
      },
      "execution_count": null,
      "outputs": [
        {
          "output_type": "stream",
          "name": "stdout",
          "text": [
            "c\n",
            "o\n",
            "l\n",
            "o\n",
            "r\n",
            "s\n"
          ]
        }
      ]
    },
    {
      "cell_type": "code",
      "source": [
        "n = [\"word\", \"phrase\", 8, (\"beam\")]\n",
        "for item in n:\n",
        "    print(item)\n",
        "\n",
        "print(type(n))"
      ],
      "metadata": {
        "colab": {
          "base_uri": "https://localhost:8080/"
        },
        "id": "u1KrraGpbHgp",
        "outputId": "03e0c6ce-f3c4-4c76-c3e1-4161e78aeb03"
      },
      "execution_count": null,
      "outputs": [
        {
          "output_type": "stream",
          "name": "stdout",
          "text": [
            "word\n",
            "phrase\n",
            "8\n",
            "beam\n",
            "<class 'list'>\n"
          ]
        }
      ]
    },
    {
      "cell_type": "markdown",
      "source": [
        "# **Read and display images**\n",
        "\n",
        "\n",
        "1.   Install colabTurle\n",
        "2.   List item\n",
        "\n",
        "\n",
        "\n"
      ],
      "metadata": {
        "id": "wjzyXGIDAdT-"
      }
    },
    {
      "cell_type": "code",
      "source": [
        "!pip3 install ColabTurtle"
      ],
      "metadata": {
        "colab": {
          "base_uri": "https://localhost:8080/"
        },
        "collapsed": true,
        "id": "ssfNcziMCUuZ",
        "outputId": "02fc2313-d9c8-4986-8bdf-4c75fea49748"
      },
      "execution_count": null,
      "outputs": [
        {
          "output_type": "stream",
          "name": "stdout",
          "text": [
            "Collecting ColabTurtle\n",
            "  Downloading ColabTurtle-2.1.0.tar.gz (6.8 kB)\n",
            "  Preparing metadata (setup.py) ... \u001b[?25l\u001b[?25hdone\n",
            "Building wheels for collected packages: ColabTurtle\n",
            "  Building wheel for ColabTurtle (setup.py) ... \u001b[?25l\u001b[?25hdone\n",
            "  Created wheel for ColabTurtle: filename=ColabTurtle-2.1.0-py3-none-any.whl size=7643 sha256=7b842e4db36032cdee873970d687f0df93db28d4715e53f927ddc0cedfdcbafc\n",
            "  Stored in directory: /root/.cache/pip/wheels/f6/9e/81/137e7da25129474562d30f8660be599e5c8d79228cb747e5b9\n",
            "Successfully built ColabTurtle\n",
            "Installing collected packages: ColabTurtle\n",
            "Successfully installed ColabTurtle-2.1.0\n"
          ]
        }
      ]
    },
    {
      "cell_type": "code",
      "source": [
        "import ColabTurtle.Turtle as star\n",
        "star.initializeTurtle()\n",
        "\n"
      ],
      "metadata": {
        "colab": {
          "base_uri": "https://localhost:8080/",
          "height": 521
        },
        "collapsed": true,
        "id": "_OOi6XCIE_f5",
        "outputId": "1bac535b-618f-4afd-e66c-ad70db904486"
      },
      "execution_count": null,
      "outputs": [
        {
          "output_type": "display_data",
          "data": {
            "text/plain": [
              "<IPython.core.display.HTML object>"
            ],
            "text/html": [
              "\n",
              "      <svg width=\"800\" height=\"500\">\n",
              "        <rect width=\"100%\" height=\"100%\" fill=\"black\"/>\n",
              "        \n",
              "        <g visibility=visible transform=\"rotate(360,400,250) translate(382, 232)\">\n",
              "<path style=\" stroke:none;fill-rule:evenodd;fill:white;fill-opacity:1;\" d=\"M 18.214844 0.632812 C 16.109375 1.800781 15.011719 4.074219 15.074219 7.132812 L 15.085938 7.652344 L 14.785156 7.496094 C 13.476562 6.824219 11.957031 6.671875 10.40625 7.066406 C 8.46875 7.550781 6.515625 9.15625 4.394531 11.992188 C 3.0625 13.777344 2.679688 14.636719 3.042969 15.027344 L 3.15625 15.152344 L 3.519531 15.152344 C 4.238281 15.152344 4.828125 14.886719 8.1875 13.039062 C 9.386719 12.378906 10.371094 11.839844 10.378906 11.839844 C 10.386719 11.839844 10.355469 11.929688 10.304688 12.035156 C 9.832031 13.09375 9.257812 14.820312 8.96875 16.078125 C 7.914062 20.652344 8.617188 24.53125 11.070312 27.660156 C 11.351562 28.015625 11.363281 27.914062 10.972656 28.382812 C 8.925781 30.84375 7.945312 33.28125 8.238281 35.1875 C 8.289062 35.527344 8.28125 35.523438 8.917969 35.523438 C 10.941406 35.523438 13.074219 34.207031 15.136719 31.6875 C 15.359375 31.417969 15.328125 31.425781 15.5625 31.574219 C 16.292969 32.042969 18.023438 32.964844 18.175781 32.964844 C 18.335938 32.964844 19.941406 32.210938 20.828125 31.71875 C 20.996094 31.625 21.136719 31.554688 21.136719 31.558594 C 21.203125 31.664062 21.898438 32.414062 22.222656 32.730469 C 23.835938 34.300781 25.5625 35.132812 27.582031 35.300781 C 27.90625 35.328125 27.9375 35.308594 28.007812 34.984375 C 28.382812 33.242188 27.625 30.925781 25.863281 28.425781 L 25.542969 27.96875 L 25.699219 27.785156 C 28.945312 23.960938 29.132812 18.699219 26.257812 11.96875 L 26.207031 11.84375 L 27.945312 12.703125 C 31.53125 14.476562 32.316406 14.800781 33.03125 14.800781 C 33.976562 14.800781 33.78125 13.9375 32.472656 12.292969 C 28.519531 7.355469 25.394531 5.925781 21.921875 7.472656 L 21.558594 7.636719 L 21.578125 7.542969 C 21.699219 6.992188 21.761719 5.742188 21.699219 5.164062 C 21.496094 3.296875 20.664062 1.964844 19.003906 0.855469 C 18.480469 0.503906 18.457031 0.5 18.214844 0.632812\"/>\n",
              "</g>\n",
              "      </svg>\n",
              "    "
            ]
          },
          "metadata": {}
        }
      ]
    },
    {
      "cell_type": "code",
      "source": [
        "\n",
        "star.pencolor(\"yellow\")\n",
        "star.pensize(10)\n",
        "star.hideturtle()\n",
        "#star.shape(\"circle\")\n",
        "star.speed(3)\n",
        "\n",
        "dist = 50\n",
        "for _ in range(5):\n",
        "    star.forward(dist)\n",
        "    star.left(72)\n",
        "    #star.stamp()\n",
        "    star.forward(dist)\n",
        "    star.right(144)\n",
        "    #star.stamp()\n",
        "\n",
        "t = (5,)\n",
        "print(type(t))\n",
        "\n",
        "x = (5)\n",
        "print(type(x))"
      ],
      "metadata": {
        "colab": {
          "base_uri": "https://localhost:8080/",
          "height": 556
        },
        "collapsed": true,
        "id": "XsL95gdkEN0k",
        "outputId": "60157839-463f-460b-b262-a6f02e198ab6"
      },
      "execution_count": null,
      "outputs": [
        {
          "output_type": "display_data",
          "data": {
            "text/plain": [
              "<IPython.core.display.HTML object>"
            ],
            "text/html": [
              "\n",
              "      <svg width=\"800\" height=\"500\">\n",
              "        <rect width=\"100%\" height=\"100%\" fill=\"black\"/>\n",
              "        <line x1=\"400\" y1=\"250\" x2=\"400.0\" y2=\"200.0\" stroke-linecap=\"round\" style=\"stroke:yellow;stroke-width:10\"/><line x1=\"400.0\" y1=\"200.0\" x2=\"352.447\" y2=\"184.549\" stroke-linecap=\"round\" style=\"stroke:yellow;stroke-width:10\"/><line x1=\"352.447\" y1=\"184.549\" x2=\"400.0\" y2=\"169.098\" stroke-linecap=\"round\" style=\"stroke:yellow;stroke-width:10\"/><line x1=\"400.0\" y1=\"169.098\" x2=\"400.0\" y2=\"119.098\" stroke-linecap=\"round\" style=\"stroke:yellow;stroke-width:10\"/><line x1=\"400.0\" y1=\"119.098\" x2=\"429.389\" y2=\"159.549\" stroke-linecap=\"round\" style=\"stroke:yellow;stroke-width:10\"/><line x1=\"429.389\" y1=\"159.549\" x2=\"476.942\" y2=\"144.098\" stroke-linecap=\"round\" style=\"stroke:yellow;stroke-width:10\"/><line x1=\"476.942\" y1=\"144.098\" x2=\"447.553\" y2=\"184.549\" stroke-linecap=\"round\" style=\"stroke:yellow;stroke-width:10\"/><line x1=\"447.553\" y1=\"184.549\" x2=\"476.942\" y2=\"225.0\" stroke-linecap=\"round\" style=\"stroke:yellow;stroke-width:10\"/><line x1=\"476.942\" y1=\"225.0\" x2=\"429.389\" y2=\"209.549\" stroke-linecap=\"round\" style=\"stroke:yellow;stroke-width:10\"/><line x1=\"429.389\" y1=\"209.549\" x2=\"400.0\" y2=\"250.0\" stroke-linecap=\"round\" style=\"stroke:yellow;stroke-width:10\"/><line x1=\"400.0\" y1=\"250.0\" x2=\"400.0\" y2=\"200.0\" stroke-linecap=\"round\" style=\"stroke:yellow;stroke-width:10\"/><line x1=\"400.0\" y1=\"200.0\" x2=\"352.447\" y2=\"184.549\" stroke-linecap=\"round\" style=\"stroke:yellow;stroke-width:10\"/><line x1=\"352.447\" y1=\"184.549\" x2=\"400.0\" y2=\"169.098\" stroke-linecap=\"round\" style=\"stroke:yellow;stroke-width:10\"/><line x1=\"400.0\" y1=\"169.098\" x2=\"400.0\" y2=\"119.098\" stroke-linecap=\"round\" style=\"stroke:yellow;stroke-width:10\"/><line x1=\"400.0\" y1=\"119.098\" x2=\"429.389\" y2=\"159.549\" stroke-linecap=\"round\" style=\"stroke:yellow;stroke-width:10\"/><line x1=\"429.389\" y1=\"159.549\" x2=\"476.942\" y2=\"144.098\" stroke-linecap=\"round\" style=\"stroke:yellow;stroke-width:10\"/><line x1=\"476.942\" y1=\"144.098\" x2=\"447.553\" y2=\"184.549\" stroke-linecap=\"round\" style=\"stroke:yellow;stroke-width:10\"/><line x1=\"447.553\" y1=\"184.549\" x2=\"476.942\" y2=\"225.0\" stroke-linecap=\"round\" style=\"stroke:yellow;stroke-width:10\"/><line x1=\"476.942\" y1=\"225.0\" x2=\"429.389\" y2=\"209.549\" stroke-linecap=\"round\" style=\"stroke:yellow;stroke-width:10\"/><line x1=\"429.389\" y1=\"209.549\" x2=\"400.0\" y2=\"250.0\" stroke-linecap=\"round\" style=\"stroke:yellow;stroke-width:10\"/>\n",
              "        <g visibility=hidden transform=\"rotate(360,400.0,250.0) translate(382.0, 232.0)\">\n",
              "<path style=\" stroke:none;fill-rule:evenodd;fill:yellow;fill-opacity:1;\" d=\"M 18.214844 0.632812 C 16.109375 1.800781 15.011719 4.074219 15.074219 7.132812 L 15.085938 7.652344 L 14.785156 7.496094 C 13.476562 6.824219 11.957031 6.671875 10.40625 7.066406 C 8.46875 7.550781 6.515625 9.15625 4.394531 11.992188 C 3.0625 13.777344 2.679688 14.636719 3.042969 15.027344 L 3.15625 15.152344 L 3.519531 15.152344 C 4.238281 15.152344 4.828125 14.886719 8.1875 13.039062 C 9.386719 12.378906 10.371094 11.839844 10.378906 11.839844 C 10.386719 11.839844 10.355469 11.929688 10.304688 12.035156 C 9.832031 13.09375 9.257812 14.820312 8.96875 16.078125 C 7.914062 20.652344 8.617188 24.53125 11.070312 27.660156 C 11.351562 28.015625 11.363281 27.914062 10.972656 28.382812 C 8.925781 30.84375 7.945312 33.28125 8.238281 35.1875 C 8.289062 35.527344 8.28125 35.523438 8.917969 35.523438 C 10.941406 35.523438 13.074219 34.207031 15.136719 31.6875 C 15.359375 31.417969 15.328125 31.425781 15.5625 31.574219 C 16.292969 32.042969 18.023438 32.964844 18.175781 32.964844 C 18.335938 32.964844 19.941406 32.210938 20.828125 31.71875 C 20.996094 31.625 21.136719 31.554688 21.136719 31.558594 C 21.203125 31.664062 21.898438 32.414062 22.222656 32.730469 C 23.835938 34.300781 25.5625 35.132812 27.582031 35.300781 C 27.90625 35.328125 27.9375 35.308594 28.007812 34.984375 C 28.382812 33.242188 27.625 30.925781 25.863281 28.425781 L 25.542969 27.96875 L 25.699219 27.785156 C 28.945312 23.960938 29.132812 18.699219 26.257812 11.96875 L 26.207031 11.84375 L 27.945312 12.703125 C 31.53125 14.476562 32.316406 14.800781 33.03125 14.800781 C 33.976562 14.800781 33.78125 13.9375 32.472656 12.292969 C 28.519531 7.355469 25.394531 5.925781 21.921875 7.472656 L 21.558594 7.636719 L 21.578125 7.542969 C 21.699219 6.992188 21.761719 5.742188 21.699219 5.164062 C 21.496094 3.296875 20.664062 1.964844 19.003906 0.855469 C 18.480469 0.503906 18.457031 0.5 18.214844 0.632812\"/>\n",
              "</g>\n",
              "      </svg>\n",
              "    "
            ]
          },
          "metadata": {}
        },
        {
          "output_type": "stream",
          "name": "stdout",
          "text": [
            "<class 'tuple'>\n",
            "<class 'int'>\n"
          ]
        }
      ]
    },
    {
      "cell_type": "code",
      "source": [
        "import turtle\n",
        "wn = turtle.Screen()\n",
        "wn.bgcolor(\"black\")\n",
        "\n",
        "star = turtle.Turtle()\n",
        "star.setx(-75)\n",
        "star.pencolor(\"yellow\")\n",
        "star.pensize(10)\n",
        "star.hideturtle()\n",
        "#star.shape(\"circle\")\n",
        "star.speed(3)\n",
        "\n",
        "\n",
        "dist = 50\n",
        "for _ in range(5):\n",
        "    star.forward(dist)\n",
        "    star.left(72)\n",
        "    #star.stamp()\n",
        "    star.forward(dist)\n",
        "    star.right(144)\n",
        "    #star.stamp()\n",
        "\n",
        "t = (5,)\n",
        "print(type(t))\n",
        "\n",
        "x = (5)\n",
        "print(type(x))"
      ],
      "metadata": {
        "colab": {
          "base_uri": "https://localhost:8080/",
          "height": 836
        },
        "id": "Vw2fNv4CAc6n",
        "outputId": "63d32bc4-01f7-4dbe-f88f-585548906249"
      },
      "execution_count": null,
      "outputs": [
        {
          "output_type": "display_data",
          "data": {
            "text/plain": [
              "<IPython.core.display.HTML object>"
            ],
            "text/html": [
              "\n",
              "      <svg width=\"800\" height=\"500\">\n",
              "        <rect width=\"100%\" height=\"100%\" fill=\"black\"/>\n",
              "        \n",
              "        <g visibility=visible transform=\"rotate(360,400,250) translate(382, 232)\">\n",
              "<path style=\" stroke:none;fill-rule:evenodd;fill:white;fill-opacity:1;\" d=\"M 18.214844 0.632812 C 16.109375 1.800781 15.011719 4.074219 15.074219 7.132812 L 15.085938 7.652344 L 14.785156 7.496094 C 13.476562 6.824219 11.957031 6.671875 10.40625 7.066406 C 8.46875 7.550781 6.515625 9.15625 4.394531 11.992188 C 3.0625 13.777344 2.679688 14.636719 3.042969 15.027344 L 3.15625 15.152344 L 3.519531 15.152344 C 4.238281 15.152344 4.828125 14.886719 8.1875 13.039062 C 9.386719 12.378906 10.371094 11.839844 10.378906 11.839844 C 10.386719 11.839844 10.355469 11.929688 10.304688 12.035156 C 9.832031 13.09375 9.257812 14.820312 8.96875 16.078125 C 7.914062 20.652344 8.617188 24.53125 11.070312 27.660156 C 11.351562 28.015625 11.363281 27.914062 10.972656 28.382812 C 8.925781 30.84375 7.945312 33.28125 8.238281 35.1875 C 8.289062 35.527344 8.28125 35.523438 8.917969 35.523438 C 10.941406 35.523438 13.074219 34.207031 15.136719 31.6875 C 15.359375 31.417969 15.328125 31.425781 15.5625 31.574219 C 16.292969 32.042969 18.023438 32.964844 18.175781 32.964844 C 18.335938 32.964844 19.941406 32.210938 20.828125 31.71875 C 20.996094 31.625 21.136719 31.554688 21.136719 31.558594 C 21.203125 31.664062 21.898438 32.414062 22.222656 32.730469 C 23.835938 34.300781 25.5625 35.132812 27.582031 35.300781 C 27.90625 35.328125 27.9375 35.308594 28.007812 34.984375 C 28.382812 33.242188 27.625 30.925781 25.863281 28.425781 L 25.542969 27.96875 L 25.699219 27.785156 C 28.945312 23.960938 29.132812 18.699219 26.257812 11.96875 L 26.207031 11.84375 L 27.945312 12.703125 C 31.53125 14.476562 32.316406 14.800781 33.03125 14.800781 C 33.976562 14.800781 33.78125 13.9375 32.472656 12.292969 C 28.519531 7.355469 25.394531 5.925781 21.921875 7.472656 L 21.558594 7.636719 L 21.578125 7.542969 C 21.699219 6.992188 21.761719 5.742188 21.699219 5.164062 C 21.496094 3.296875 20.664062 1.964844 19.003906 0.855469 C 18.480469 0.503906 18.457031 0.5 18.214844 0.632812\"/>\n",
              "</g>\n",
              "      </svg>\n",
              "    "
            ]
          },
          "metadata": {}
        },
        {
          "output_type": "error",
          "ename": "ValueError",
          "evalue": "new x position must be non-negative.",
          "traceback": [
            "\u001b[0;31m---------------------------------------------------------------------------\u001b[0m",
            "\u001b[0;31mValueError\u001b[0m                                Traceback (most recent call last)",
            "\u001b[0;32m<ipython-input-11-4a38caf99bd9>\u001b[0m in \u001b[0;36m<cell line: 0>\u001b[0;34m()\u001b[0m\n\u001b[1;32m      6\u001b[0m \u001b[0;34m\u001b[0m\u001b[0m\n\u001b[1;32m      7\u001b[0m \u001b[0;31m##star = turtle.Turtle()\u001b[0m\u001b[0;34m\u001b[0m\u001b[0;34m\u001b[0m\u001b[0m\n\u001b[0;32m----> 8\u001b[0;31m \u001b[0mstar\u001b[0m\u001b[0;34m.\u001b[0m\u001b[0msetx\u001b[0m\u001b[0;34m(\u001b[0m\u001b[0;34m-\u001b[0m\u001b[0;36m75\u001b[0m\u001b[0;34m)\u001b[0m\u001b[0;34m\u001b[0m\u001b[0;34m\u001b[0m\u001b[0m\n\u001b[0m\u001b[1;32m      9\u001b[0m \u001b[0mstar\u001b[0m\u001b[0;34m.\u001b[0m\u001b[0mpencolor\u001b[0m\u001b[0;34m(\u001b[0m\u001b[0;34m\"yellow\"\u001b[0m\u001b[0;34m)\u001b[0m\u001b[0;34m\u001b[0m\u001b[0;34m\u001b[0m\u001b[0m\n\u001b[1;32m     10\u001b[0m \u001b[0mstar\u001b[0m\u001b[0;34m.\u001b[0m\u001b[0mpensize\u001b[0m\u001b[0;34m(\u001b[0m\u001b[0;36m10\u001b[0m\u001b[0;34m)\u001b[0m\u001b[0;34m\u001b[0m\u001b[0;34m\u001b[0m\u001b[0m\n",
            "\u001b[0;32m/usr/local/lib/python3.11/dist-packages/ColabTurtle/Turtle.py\u001b[0m in \u001b[0;36msetx\u001b[0;34m(x)\u001b[0m\n\u001b[1;32m    264\u001b[0m         \u001b[0;32mraise\u001b[0m \u001b[0mValueError\u001b[0m\u001b[0;34m(\u001b[0m\u001b[0;34m'new x position must be a number.'\u001b[0m\u001b[0;34m)\u001b[0m\u001b[0;34m\u001b[0m\u001b[0;34m\u001b[0m\u001b[0m\n\u001b[1;32m    265\u001b[0m     \u001b[0;32mif\u001b[0m \u001b[0mx\u001b[0m \u001b[0;34m<\u001b[0m \u001b[0;36m0\u001b[0m\u001b[0;34m:\u001b[0m\u001b[0;34m\u001b[0m\u001b[0;34m\u001b[0m\u001b[0m\n\u001b[0;32m--> 266\u001b[0;31m         \u001b[0;32mraise\u001b[0m \u001b[0mValueError\u001b[0m\u001b[0;34m(\u001b[0m\u001b[0;34m'new x position must be non-negative.'\u001b[0m\u001b[0;34m)\u001b[0m\u001b[0;34m\u001b[0m\u001b[0;34m\u001b[0m\u001b[0m\n\u001b[0m\u001b[1;32m    267\u001b[0m     \u001b[0m_moveToNewPosition\u001b[0m\u001b[0;34m(\u001b[0m\u001b[0;34m(\u001b[0m\u001b[0mx\u001b[0m\u001b[0;34m,\u001b[0m \u001b[0mturtle_pos\u001b[0m\u001b[0;34m[\u001b[0m\u001b[0;36m1\u001b[0m\u001b[0;34m]\u001b[0m\u001b[0;34m)\u001b[0m\u001b[0;34m)\u001b[0m\u001b[0;34m\u001b[0m\u001b[0;34m\u001b[0m\u001b[0m\n\u001b[1;32m    268\u001b[0m \u001b[0;34m\u001b[0m\u001b[0m\n",
            "\u001b[0;31mValueError\u001b[0m: new x position must be non-negative."
          ]
        }
      ]
    },
    {
      "cell_type": "code",
      "source": [
        "for i in range(3):\n",
        "    for j in range(2):\n",
        "        print(i, j)"
      ],
      "metadata": {
        "colab": {
          "base_uri": "https://localhost:8080/"
        },
        "id": "eHkQYGyJig0B",
        "outputId": "0dcc6808-06ce-48f7-81ad-73c17ec3abd4"
      },
      "execution_count": null,
      "outputs": [
        {
          "output_type": "stream",
          "name": "stdout",
          "text": [
            "0 0\n",
            "0 1\n",
            "1 0\n",
            "1 1\n",
            "2 0\n",
            "2 1\n"
          ]
        }
      ]
    },
    {
      "cell_type": "code",
      "source": [
        "for i in range(5):\n",
        "    for j in range(3):\n",
        "        print(i, j)"
      ],
      "metadata": {
        "colab": {
          "base_uri": "https://localhost:8080/"
        },
        "id": "8Fq5aTlggEq7",
        "outputId": "e39ac4f7-dd73-450c-eec7-3bfa583eb87a"
      },
      "execution_count": null,
      "outputs": [
        {
          "output_type": "stream",
          "name": "stdout",
          "text": [
            "0 0\n",
            "0 1\n",
            "0 2\n",
            "1 0\n",
            "1 1\n",
            "1 2\n",
            "2 0\n",
            "2 1\n",
            "2 2\n",
            "3 0\n",
            "3 1\n",
            "3 2\n",
            "4 0\n",
            "4 1\n",
            "4 2\n"
          ]
        }
      ]
    },
    {
      "cell_type": "code",
      "source": [
        "for i in range(5):\n",
        "    print(i)"
      ],
      "metadata": {
        "colab": {
          "base_uri": "https://localhost:8080/"
        },
        "id": "Y7Rcuw2K5N6X",
        "outputId": "d4bb9513-d767-4364-8837-394d14d7b1a9"
      },
      "execution_count": null,
      "outputs": [
        {
          "output_type": "stream",
          "name": "stdout",
          "text": [
            "0\n",
            "1\n",
            "2\n",
            "3\n",
            "4\n"
          ]
        }
      ]
    },
    {
      "cell_type": "code",
      "source": [
        "s = \"python\"\n",
        "for idx in range(len(s)):\n",
        "   print(s[idx % 2])"
      ],
      "metadata": {
        "colab": {
          "base_uri": "https://localhost:8080/"
        },
        "id": "Ci-LnXwa0rn0",
        "outputId": "c07a01c6-7527-4b35-9dfc-8df2529bdfdb"
      },
      "execution_count": null,
      "outputs": [
        {
          "output_type": "stream",
          "name": "stdout",
          "text": [
            "p\n",
            "y\n",
            "p\n",
            "y\n",
            "p\n",
            "y\n"
          ]
        }
      ]
    },
    {
      "cell_type": "markdown",
      "source": [],
      "metadata": {
        "id": "jw3mCtjg0rZq"
      }
    },
    {
      "cell_type": "markdown",
      "source": [
        "Create a list of numbers 0 through 40 and assign this list to the variable numbers. Then, accumulate the total of the list’s values and assign that sum to the variable sum1.\n"
      ],
      "metadata": {
        "id": "yDWCFlewDBLW"
      }
    },
    {
      "cell_type": "code",
      "source": [
        "numbers = list(range(41))\n",
        "sum1 = 0\n",
        "for s in numbers:\n",
        "  sum1=sum1+s\n",
        "print(sum1)\n"
      ],
      "metadata": {
        "colab": {
          "base_uri": "https://localhost:8080/"
        },
        "id": "5gfbqfjvcvJm",
        "outputId": "d297d93d-5a75-479c-8582-0717708d45bd"
      },
      "execution_count": null,
      "outputs": [
        {
          "output_type": "stream",
          "name": "stdout",
          "text": [
            "820\n"
          ]
        }
      ]
    },
    {
      "cell_type": "code",
      "source": [
        "str1 = \"I like nonsense, it wakes up the brain cells. Fantasy is a necessary ingredient in living.\"\n",
        "numbs = 0\n",
        "for s in str1:\n",
        "  numbs=numbs+1\n",
        "print(numbs)\n"
      ],
      "metadata": {
        "colab": {
          "base_uri": "https://localhost:8080/"
        },
        "id": "LbKzpRVdakoJ",
        "outputId": "57d570c2-0775-41dd-b925-6a2e0b9006ec"
      },
      "execution_count": null,
      "outputs": [
        {
          "output_type": "stream",
          "name": "stdout",
          "text": [
            "90\n"
          ]
        }
      ]
    },
    {
      "cell_type": "code",
      "source": [
        "numbers = list(range(53))\n",
        "print(numbers)"
      ],
      "metadata": {
        "colab": {
          "base_uri": "https://localhost:8080/"
        },
        "id": "ovxp17sZZW-5",
        "outputId": "89bd8a74-f6b2-450a-e861-c30432c6c1c6"
      },
      "execution_count": null,
      "outputs": [
        {
          "output_type": "stream",
          "name": "stdout",
          "text": [
            "[0, 1, 2, 3, 4, 5, 6, 7, 8, 9, 10, 11, 12, 13, 14, 15, 16, 17, 18, 19, 20, 21, 22, 23, 24, 25, 26, 27, 28, 29, 30, 31, 32, 33, 34, 35, 36, 37, 38, 39, 40, 41, 42, 43, 44, 45, 46, 47, 48, 49, 50, 51, 52]\n"
          ]
        }
      ]
    },
    {
      "cell_type": "code",
      "source": [
        "print(\"simple range: \",(range(10)))\n",
        "print(list(range(3)))"
      ],
      "metadata": {
        "colab": {
          "base_uri": "https://localhost:8080/"
        },
        "id": "bxncND5bUqS9",
        "outputId": "68cbfea7-1f6c-426d-c27a-02311bbbf19e"
      },
      "execution_count": null,
      "outputs": [
        {
          "output_type": "stream",
          "name": "stdout",
          "text": [
            "simple range:  range(0, 10)\n",
            "[0, 1, 2]\n"
          ]
        }
      ]
    },
    {
      "cell_type": "code",
      "source": [
        "for name in [\"Joe\", \"Amy\", \"Brad\", \"Angelina\", \"Zuki\", \"Thandi\", \"Paris\"]:\n",
        "    print(\"Hi\", name, \"Please come to my party on Saturday!\")"
      ],
      "metadata": {
        "colab": {
          "base_uri": "https://localhost:8080/"
        },
        "id": "lnoC_njCTt9x",
        "outputId": "fcb405cf-a9dd-41e2-950b-2131f9ff577c"
      },
      "execution_count": null,
      "outputs": [
        {
          "output_type": "stream",
          "name": "stdout",
          "text": [
            "Hi Joe Please come to my party on Saturday!\n",
            "Hi Amy Please come to my party on Saturday!\n",
            "Hi Brad Please come to my party on Saturday!\n",
            "Hi Angelina Please come to my party on Saturday!\n",
            "Hi Zuki Please come to my party on Saturday!\n",
            "Hi Thandi Please come to my party on Saturday!\n",
            "Hi Paris Please come to my party on Saturday!\n"
          ]
        }
      ]
    },
    {
      "cell_type": "code",
      "source": [
        "b = \"My, what a lovely day\"\n",
        "x = b.split(',')\n",
        "z = ''.join(x)\n",
        "y = z.split()\n",
        "\n",
        "a = \"\".join(y)\n",
        "print(x)\n",
        "print(z)\n",
        "print(y)\n",
        "print(a)\n"
      ],
      "metadata": {
        "colab": {
          "base_uri": "https://localhost:8080/"
        },
        "id": "NCPmQLM2Pgq9",
        "outputId": "e5b8e8ab-dd3f-4f37-9691-798e053cfb23"
      },
      "execution_count": null,
      "outputs": [
        {
          "output_type": "stream",
          "name": "stdout",
          "text": [
            "['My', ' what a lovely day']\n",
            "My what a lovely day\n",
            "['My', 'what', 'a', 'lovely', 'day']\n",
            "Mywhatalovelyday\n"
          ]
        }
      ]
    },
    {
      "cell_type": "code",
      "source": [
        "b = \"My, what a lovely day\"\n",
        "x = b.split(',')\n",
        "print(x)\n",
        "print(type(x))\n",
        "\n",
        "b = \"My, what a lovely day\"\n",
        "x = b.split(',')\n",
        "z = \"\".join(x)\n",
        "y = z.split()\n",
        "\n",
        "\n",
        "print(\"\")\n",
        "print(\"VALUE OF Z: \",z)\n",
        "print(\"\")\n",
        "print(\"VALUE OF y: \",y)\n",
        "print(\"\")\n",
        "print(\"VALUE OF a: \",a)\n",
        "print(type(a))"
      ],
      "metadata": {
        "colab": {
          "base_uri": "https://localhost:8080/"
        },
        "id": "Qj3VZbbkI6yQ",
        "outputId": "8f73c983-8120-4417-8c33-1e9d4af898f8"
      },
      "execution_count": null,
      "outputs": [
        {
          "output_type": "stream",
          "name": "stdout",
          "text": [
            "['My', ' what a lovely day']\n",
            "<class 'list'>\n",
            "\n",
            "VALUE OF Z:  My what a lovely day\n",
            "\n",
            "VALUE OF y:  ['My', 'what', 'a', 'lovely', 'day']\n",
            "\n",
            "VALUE OF a:  Mywhatalovelyday\n",
            "<class 'str'>\n"
          ]
        }
      ]
    },
    {
      "cell_type": "code",
      "source": [
        "l = ['w', '7', 0, 9]\n",
        "m = l[1:2]\n",
        "print(type(m))\n",
        "\n",
        "l = ['w', '7', 0, 9]\n",
        "m = l[1]\n",
        "print(type(m))"
      ],
      "metadata": {
        "colab": {
          "base_uri": "https://localhost:8080/"
        },
        "id": "YTzSCkZ6IZbh",
        "outputId": "2a428724-5961-4f62-ddc8-8f19001f8230"
      },
      "execution_count": null,
      "outputs": [
        {
          "output_type": "stream",
          "name": "stdout",
          "text": [
            "<class 'list'>\n",
            "<class 'str'>\n"
          ]
        }
      ]
    },
    {
      "cell_type": "code",
      "source": [
        "ls = ['run', 'world', 'travel', 'lights', 'moon', 'baseball', 'sea']\n",
        "new = ls[2:4]\n",
        "print(new)"
      ],
      "metadata": {
        "colab": {
          "base_uri": "https://localhost:8080/"
        },
        "id": "L7macK1RIR5Z",
        "outputId": "4f34c652-cc7b-457d-94a1-e4b84132db6e"
      },
      "execution_count": null,
      "outputs": [
        {
          "output_type": "stream",
          "name": "stdout",
          "text": [
            "['travel', 'lights']\n"
          ]
        }
      ]
    },
    {
      "cell_type": "code",
      "source": [
        "by = \"You are\"\n",
        "az = \"doing a great \"\n",
        "io = \"job\"\n",
        "qy = \"keep it up!\"\n",
        "message = by + \" \" + az + io + \", \" + qy\n",
        "print(message)"
      ],
      "metadata": {
        "colab": {
          "base_uri": "https://localhost:8080/"
        },
        "id": "lBcb4v0uG1BX",
        "outputId": "870b78a2-0a07-4463-99ca-0757b737f8e9"
      },
      "execution_count": null,
      "outputs": [
        {
          "output_type": "stream",
          "name": "stdout",
          "text": [
            "You are doing a great job, keep it up!\n"
          ]
        }
      ]
    },
    {
      "cell_type": "code",
      "source": [
        "sports = ['cricket', 'football', 'volleyball', 'baseball', 'softball', 'track and field', 'curling', 'ping pong', 'hockey']\n",
        "last = sports[-3:-1]\n",
        "print(last)"
      ],
      "metadata": {
        "colab": {
          "base_uri": "https://localhost:8080/"
        },
        "id": "LZM6aC3MGcXu",
        "outputId": "6ec5192e-8275-40ed-868a-179b79ff62de"
      },
      "execution_count": null,
      "outputs": [
        {
          "output_type": "stream",
          "name": "stdout",
          "text": [
            "['curling', 'ping pong']\n"
          ]
        }
      ]
    },
    {
      "cell_type": "code",
      "source": [
        "julia = (\"Julia\", \"Roberts\", 1967, \"Duplicity\", 2009, \"Actress\", \"Atlanta, Georgia\")\n",
        "print(julia[2])\n",
        "print(julia[2:6])\n",
        "\n",
        "print(len(julia))\n",
        "\n",
        "julia = julia[:3] + (\"Eat Pray Love\", 2010) + julia[5:]\n",
        "print(julia)\n"
      ],
      "metadata": {
        "id": "_PWb84r3oI_v",
        "colab": {
          "base_uri": "https://localhost:8080/"
        },
        "outputId": "6f3467f6-cbe9-44ca-f5d2-965f922918ee"
      },
      "execution_count": null,
      "outputs": [
        {
          "output_type": "stream",
          "name": "stdout",
          "text": [
            "1967\n",
            "(1967, 'Duplicity', 2009, 'Actress')\n",
            "7\n",
            "('Julia', 'Roberts', 1967, 'Eat Pray Love', 2010, 'Actress', 'Atlanta, Georgia')\n"
          ]
        }
      ]
    },
    {
      "cell_type": "code",
      "source": [],
      "metadata": {
        "id": "Kn7blr8muOEJ"
      },
      "execution_count": null,
      "outputs": []
    },
    {
      "cell_type": "code",
      "source": [
        "import turtle\n",
        "wn = turtle.Screen()\n",
        "wn.bgcolor(\"black\")\n",
        "\n",
        "star = turtle.Turtle()\n",
        "star.setx(-75)\n",
        "star.pencolor(\"yellow\")\n",
        "star.pensize(10)\n",
        "star.hideturtle()\n",
        "#star.shape(\"circle\")\n",
        "star.speed(3)\n",
        "\n",
        "\n",
        "dist = 50\n",
        "for _ in range(5):\n",
        "    star.forward(dist)\n",
        "    star.left(72)\n",
        "    #star.stamp()\n",
        "    star.forward(dist)\n",
        "    star.right(144)\n",
        "    #star.stamp()\n"
      ],
      "metadata": {
        "colab": {
          "base_uri": "https://localhost:8080/",
          "height": 356
        },
        "id": "7cO2JCL03skO",
        "outputId": "5a7f66fd-d026-4c49-ae67-8445670b3bfe"
      },
      "execution_count": null,
      "outputs": [
        {
          "output_type": "error",
          "ename": "TclError",
          "evalue": "no display name and no $DISPLAY environment variable",
          "traceback": [
            "\u001b[0;31m---------------------------------------------------------------------------\u001b[0m",
            "\u001b[0;31mTclError\u001b[0m                                  Traceback (most recent call last)",
            "\u001b[0;32m<ipython-input-1-308e97f2f7dd>\u001b[0m in \u001b[0;36m<cell line: 0>\u001b[0;34m()\u001b[0m\n\u001b[1;32m      1\u001b[0m \u001b[0;32mimport\u001b[0m \u001b[0mturtle\u001b[0m\u001b[0;34m\u001b[0m\u001b[0;34m\u001b[0m\u001b[0m\n\u001b[0;32m----> 2\u001b[0;31m \u001b[0mwn\u001b[0m \u001b[0;34m=\u001b[0m \u001b[0mturtle\u001b[0m\u001b[0;34m.\u001b[0m\u001b[0mScreen\u001b[0m\u001b[0;34m(\u001b[0m\u001b[0;34m)\u001b[0m\u001b[0;34m\u001b[0m\u001b[0;34m\u001b[0m\u001b[0m\n\u001b[0m\u001b[1;32m      3\u001b[0m \u001b[0mwn\u001b[0m\u001b[0;34m.\u001b[0m\u001b[0mbgcolor\u001b[0m\u001b[0;34m(\u001b[0m\u001b[0;34m\"black\"\u001b[0m\u001b[0;34m)\u001b[0m\u001b[0;34m\u001b[0m\u001b[0;34m\u001b[0m\u001b[0m\n\u001b[1;32m      4\u001b[0m \u001b[0;34m\u001b[0m\u001b[0m\n\u001b[1;32m      5\u001b[0m \u001b[0mstar\u001b[0m \u001b[0;34m=\u001b[0m \u001b[0mturtle\u001b[0m\u001b[0;34m.\u001b[0m\u001b[0mTurtle\u001b[0m\u001b[0;34m(\u001b[0m\u001b[0;34m)\u001b[0m\u001b[0;34m\u001b[0m\u001b[0;34m\u001b[0m\u001b[0m\n",
            "\u001b[0;32m/usr/lib/python3.11/turtle.py\u001b[0m in \u001b[0;36mScreen\u001b[0;34m()\u001b[0m\n\u001b[1;32m   3678\u001b[0m     else return the existing one.\"\"\"\n\u001b[1;32m   3679\u001b[0m     \u001b[0;32mif\u001b[0m \u001b[0mTurtle\u001b[0m\u001b[0;34m.\u001b[0m\u001b[0m_screen\u001b[0m \u001b[0;32mis\u001b[0m \u001b[0;32mNone\u001b[0m\u001b[0;34m:\u001b[0m\u001b[0;34m\u001b[0m\u001b[0;34m\u001b[0m\u001b[0m\n\u001b[0;32m-> 3680\u001b[0;31m         \u001b[0mTurtle\u001b[0m\u001b[0;34m.\u001b[0m\u001b[0m_screen\u001b[0m \u001b[0;34m=\u001b[0m \u001b[0m_Screen\u001b[0m\u001b[0;34m(\u001b[0m\u001b[0;34m)\u001b[0m\u001b[0;34m\u001b[0m\u001b[0;34m\u001b[0m\u001b[0m\n\u001b[0m\u001b[1;32m   3681\u001b[0m     \u001b[0;32mreturn\u001b[0m \u001b[0mTurtle\u001b[0m\u001b[0;34m.\u001b[0m\u001b[0m_screen\u001b[0m\u001b[0;34m\u001b[0m\u001b[0;34m\u001b[0m\u001b[0m\n\u001b[1;32m   3682\u001b[0m \u001b[0;34m\u001b[0m\u001b[0m\n",
            "\u001b[0;32m/usr/lib/python3.11/turtle.py\u001b[0m in \u001b[0;36m__init__\u001b[0;34m(self)\u001b[0m\n\u001b[1;32m   3694\u001b[0m         \u001b[0;31m# preserved (perhaps by passing it as an optional parameter)\u001b[0m\u001b[0;34m\u001b[0m\u001b[0;34m\u001b[0m\u001b[0m\n\u001b[1;32m   3695\u001b[0m         \u001b[0;32mif\u001b[0m \u001b[0m_Screen\u001b[0m\u001b[0;34m.\u001b[0m\u001b[0m_root\u001b[0m \u001b[0;32mis\u001b[0m \u001b[0;32mNone\u001b[0m\u001b[0;34m:\u001b[0m\u001b[0;34m\u001b[0m\u001b[0;34m\u001b[0m\u001b[0m\n\u001b[0;32m-> 3696\u001b[0;31m             \u001b[0m_Screen\u001b[0m\u001b[0;34m.\u001b[0m\u001b[0m_root\u001b[0m \u001b[0;34m=\u001b[0m \u001b[0mself\u001b[0m\u001b[0;34m.\u001b[0m\u001b[0m_root\u001b[0m \u001b[0;34m=\u001b[0m \u001b[0m_Root\u001b[0m\u001b[0;34m(\u001b[0m\u001b[0;34m)\u001b[0m\u001b[0;34m\u001b[0m\u001b[0;34m\u001b[0m\u001b[0m\n\u001b[0m\u001b[1;32m   3697\u001b[0m             \u001b[0mself\u001b[0m\u001b[0;34m.\u001b[0m\u001b[0m_root\u001b[0m\u001b[0;34m.\u001b[0m\u001b[0mtitle\u001b[0m\u001b[0;34m(\u001b[0m\u001b[0m_Screen\u001b[0m\u001b[0;34m.\u001b[0m\u001b[0m_title\u001b[0m\u001b[0;34m)\u001b[0m\u001b[0;34m\u001b[0m\u001b[0;34m\u001b[0m\u001b[0m\n\u001b[1;32m   3698\u001b[0m             \u001b[0mself\u001b[0m\u001b[0;34m.\u001b[0m\u001b[0m_root\u001b[0m\u001b[0;34m.\u001b[0m\u001b[0mondestroy\u001b[0m\u001b[0;34m(\u001b[0m\u001b[0mself\u001b[0m\u001b[0;34m.\u001b[0m\u001b[0m_destroy\u001b[0m\u001b[0;34m)\u001b[0m\u001b[0;34m\u001b[0m\u001b[0;34m\u001b[0m\u001b[0m\n",
            "\u001b[0;32m/usr/lib/python3.11/turtle.py\u001b[0m in \u001b[0;36m__init__\u001b[0;34m(self)\u001b[0m\n\u001b[1;32m    434\u001b[0m     \u001b[0;34m\"\"\"Root class for Screen based on Tkinter.\"\"\"\u001b[0m\u001b[0;34m\u001b[0m\u001b[0;34m\u001b[0m\u001b[0m\n\u001b[1;32m    435\u001b[0m     \u001b[0;32mdef\u001b[0m \u001b[0m__init__\u001b[0m\u001b[0;34m(\u001b[0m\u001b[0mself\u001b[0m\u001b[0;34m)\u001b[0m\u001b[0;34m:\u001b[0m\u001b[0;34m\u001b[0m\u001b[0;34m\u001b[0m\u001b[0m\n\u001b[0;32m--> 436\u001b[0;31m         \u001b[0mTK\u001b[0m\u001b[0;34m.\u001b[0m\u001b[0mTk\u001b[0m\u001b[0;34m.\u001b[0m\u001b[0m__init__\u001b[0m\u001b[0;34m(\u001b[0m\u001b[0mself\u001b[0m\u001b[0;34m)\u001b[0m\u001b[0;34m\u001b[0m\u001b[0;34m\u001b[0m\u001b[0m\n\u001b[0m\u001b[1;32m    437\u001b[0m \u001b[0;34m\u001b[0m\u001b[0m\n\u001b[1;32m    438\u001b[0m     \u001b[0;32mdef\u001b[0m \u001b[0msetupcanvas\u001b[0m\u001b[0;34m(\u001b[0m\u001b[0mself\u001b[0m\u001b[0;34m,\u001b[0m \u001b[0mwidth\u001b[0m\u001b[0;34m,\u001b[0m \u001b[0mheight\u001b[0m\u001b[0;34m,\u001b[0m \u001b[0mcwidth\u001b[0m\u001b[0;34m,\u001b[0m \u001b[0mcheight\u001b[0m\u001b[0;34m)\u001b[0m\u001b[0;34m:\u001b[0m\u001b[0;34m\u001b[0m\u001b[0;34m\u001b[0m\u001b[0m\n",
            "\u001b[0;32m/usr/lib/python3.11/tkinter/__init__.py\u001b[0m in \u001b[0;36m__init__\u001b[0;34m(self, screenName, baseName, className, useTk, sync, use)\u001b[0m\n\u001b[1;32m   2324\u001b[0m                 \u001b[0mbaseName\u001b[0m \u001b[0;34m=\u001b[0m \u001b[0mbaseName\u001b[0m \u001b[0;34m+\u001b[0m \u001b[0mext\u001b[0m\u001b[0;34m\u001b[0m\u001b[0;34m\u001b[0m\u001b[0m\n\u001b[1;32m   2325\u001b[0m         \u001b[0minteractive\u001b[0m \u001b[0;34m=\u001b[0m \u001b[0;32mFalse\u001b[0m\u001b[0;34m\u001b[0m\u001b[0;34m\u001b[0m\u001b[0m\n\u001b[0;32m-> 2326\u001b[0;31m         \u001b[0mself\u001b[0m\u001b[0;34m.\u001b[0m\u001b[0mtk\u001b[0m \u001b[0;34m=\u001b[0m \u001b[0m_tkinter\u001b[0m\u001b[0;34m.\u001b[0m\u001b[0mcreate\u001b[0m\u001b[0;34m(\u001b[0m\u001b[0mscreenName\u001b[0m\u001b[0;34m,\u001b[0m \u001b[0mbaseName\u001b[0m\u001b[0;34m,\u001b[0m \u001b[0mclassName\u001b[0m\u001b[0;34m,\u001b[0m \u001b[0minteractive\u001b[0m\u001b[0;34m,\u001b[0m \u001b[0mwantobjects\u001b[0m\u001b[0;34m,\u001b[0m \u001b[0museTk\u001b[0m\u001b[0;34m,\u001b[0m \u001b[0msync\u001b[0m\u001b[0;34m,\u001b[0m \u001b[0muse\u001b[0m\u001b[0;34m)\u001b[0m\u001b[0;34m\u001b[0m\u001b[0;34m\u001b[0m\u001b[0m\n\u001b[0m\u001b[1;32m   2327\u001b[0m         \u001b[0;32mif\u001b[0m \u001b[0museTk\u001b[0m\u001b[0;34m:\u001b[0m\u001b[0;34m\u001b[0m\u001b[0;34m\u001b[0m\u001b[0m\n\u001b[1;32m   2328\u001b[0m             \u001b[0mself\u001b[0m\u001b[0;34m.\u001b[0m\u001b[0m_loadtk\u001b[0m\u001b[0;34m(\u001b[0m\u001b[0;34m)\u001b[0m\u001b[0;34m\u001b[0m\u001b[0;34m\u001b[0m\u001b[0m\n",
            "\u001b[0;31mTclError\u001b[0m: no display name and no $DISPLAY environment variable"
          ]
        }
      ]
    },
    {
      "cell_type": "code",
      "source": [
        "x=10//3\n",
        "print(x)\n",
        "print(10//3)"
      ],
      "metadata": {
        "colab": {
          "base_uri": "https://localhost:8080/"
        },
        "id": "Bz9I8Dkb2-UR",
        "outputId": "e49cf3fb-ca95-4fa7-fc31-9afb383b2fe4"
      },
      "execution_count": null,
      "outputs": [
        {
          "output_type": "stream",
          "name": "stdout",
          "text": [
            "3\n",
            "3\n"
          ]
        }
      ]
    },
    {
      "cell_type": "code",
      "source": [
        "\n",
        "print(\"doesn't\")\n",
        "print('''doesn't''')\n",
        "print('Python'[2:5])\n",
        "print(len('supercalifragilisticexpialidocious'))\n",
        "\n",
        "\n",
        "text = \"Good morning!\"\n",
        "print(text[0])\n",
        "print(text[1])\n",
        "print(text[2])\n",
        "print(text[3])\n",
        "print(text[4])\n",
        "print(text[5])\n",
        "\n",
        "squares = [1, 4, 9, 16, 25]\n",
        "print(squares[0:3])\n",
        "print(squares[-3:])\n",
        "print(squares[-3:-6:-1])\n"
      ],
      "metadata": {
        "colab": {
          "base_uri": "https://localhost:8080/"
        },
        "id": "LqB7bAwxpyIh",
        "outputId": "2b1b54e8-c70d-4161-bedf-f2f4b21d3dcd"
      },
      "execution_count": null,
      "outputs": [
        {
          "output_type": "stream",
          "name": "stdout",
          "text": [
            "doesn't\n",
            "doesn't\n",
            "tho\n",
            "34\n",
            "G\n",
            "o\n",
            "o\n",
            "d\n",
            " \n",
            "m\n",
            "[1, 4, 9]\n",
            "[9, 16, 25]\n",
            "[9, 4, 1]\n"
          ]
        }
      ]
    },
    {
      "cell_type": "code",
      "source": [],
      "metadata": {
        "id": "6SeTMJSP29eK"
      },
      "execution_count": null,
      "outputs": []
    },
    {
      "cell_type": "code",
      "source": [
        "code = int(input(\"Enter a number: \"))\n",
        "match code:\n",
        "    case 200:\n",
        "        print(\"OK\")\n",
        "    case 404:\n",
        "        print(\"Not Found\")\n",
        "    case _:\n",
        "        print(\"Other\")\n"
      ],
      "metadata": {
        "colab": {
          "base_uri": "https://localhost:8080/"
        },
        "id": "AMz2tTwltp61",
        "outputId": "861c1051-9516-4418-b417-34a1e9d289e9"
      },
      "execution_count": null,
      "outputs": [
        {
          "output_type": "stream",
          "name": "stdout",
          "text": [
            "enter a number: 200\n",
            "OK\n"
          ]
        }
      ]
    },
    {
      "cell_type": "code",
      "source": [
        "for i in range(3):\n",
        "    if i == 2:\n",
        "        print(range(i))\n",
        "        print(\"Break occurred\")\n",
        "        break\n",
        "\n",
        "else:\n",
        "    print(\"No break occurred\")\n"
      ],
      "metadata": {
        "colab": {
          "base_uri": "https://localhost:8080/"
        },
        "id": "AVruCSLIsvmG",
        "outputId": "f1bb4d82-218f-47b6-929a-a9fb5649932f"
      },
      "execution_count": null,
      "outputs": [
        {
          "output_type": "stream",
          "name": "stdout",
          "text": [
            "range(0, 2)\n",
            "Break occurred\n"
          ]
        }
      ]
    },
    {
      "cell_type": "code",
      "source": [
        "for i in range(5):\n",
        "    print(i)\n"
      ],
      "metadata": {
        "colab": {
          "base_uri": "https://localhost:8080/"
        },
        "id": "fNQClWVJsmyM",
        "outputId": "58d46c06-d5b5-4776-f95f-4e0875640c1c"
      },
      "execution_count": null,
      "outputs": [
        {
          "output_type": "stream",
          "name": "stdout",
          "text": [
            "0\n",
            "1\n",
            "2\n",
            "3\n",
            "4\n"
          ]
        }
      ]
    },
    {
      "cell_type": "code",
      "source": [
        "# Measure some strings:\n",
        "words = ['cat', 'window', 'defenestrate']\n",
        "for w in words:\n",
        "    print(w, len(w))"
      ],
      "metadata": {
        "colab": {
          "base_uri": "https://localhost:8080/"
        },
        "id": "apIL-uGdpUFk",
        "outputId": "4015cd53-d2a0-4e8e-eb81-c1c97dc259f8"
      },
      "execution_count": null,
      "outputs": [
        {
          "output_type": "stream",
          "name": "stdout",
          "text": [
            "cat 3\n",
            "window 6\n",
            "defenestrate 12\n"
          ]
        }
      ]
    },
    {
      "cell_type": "code",
      "source": [
        "x = int(input(\"Please enter an integer: \"))\n",
        "\n",
        "if x < 0:\n",
        "    x = 0\n",
        "    print('Negative changed to zero')\n",
        "elif x == 0:\n",
        "    print('Zero')\n",
        "elif x == 1:\n",
        "    print('Single')\n",
        "else:\n",
        "    print('More')"
      ],
      "metadata": {
        "colab": {
          "base_uri": "https://localhost:8080/"
        },
        "id": "6KlAlLQyjIkA",
        "outputId": "8988ace7-7fac-47a6-d21e-b78529234045"
      },
      "execution_count": null,
      "outputs": [
        {
          "output_type": "stream",
          "name": "stdout",
          "text": [
            "Please enter an integer: 1\n",
            "Single\n"
          ]
        }
      ]
    },
    {
      "cell_type": "markdown",
      "source": [],
      "metadata": {
        "id": "LBDysHy0ouWo"
      }
    },
    {
      "cell_type": "code",
      "source": [
        "x = int(input(\"please enter an integer: \"))\n",
        "\n",
        "if x < 0:\n",
        "  x = 0\n",
        "  print('Negative changed to zero')\n",
        "elif x == 0:\n",
        "  print('Zero')\n",
        "elif x == 1:\n",
        "  print(\"single\")\n",
        "else:\n",
        "  print(\"more\")"
      ],
      "metadata": {
        "colab": {
          "base_uri": "https://localhost:8080/"
        },
        "id": "0DGnid0Tk79j",
        "outputId": "e9765aff-7dcb-4a90-c2ee-d50325facfe5"
      },
      "execution_count": null,
      "outputs": [
        {
          "output_type": "stream",
          "name": "stdout",
          "text": [
            "please enter an integer: 42\n",
            "more\n"
          ]
        }
      ]
    },
    {
      "cell_type": "code",
      "source": [
        "print(range(5))"
      ],
      "metadata": {
        "colab": {
          "base_uri": "https://localhost:8080/"
        },
        "id": "BHaNG2LyWpYY",
        "outputId": "44e4769f-5fe0-4d1a-913c-64f523555714"
      },
      "execution_count": null,
      "outputs": [
        {
          "output_type": "stream",
          "name": "stdout",
          "text": [
            "range(0, 5)\n"
          ]
        }
      ]
    },
    {
      "cell_type": "code",
      "source": [
        "list(range(5))"
      ],
      "metadata": {
        "colab": {
          "base_uri": "https://localhost:8080/"
        },
        "id": "Bwr3t5p5W41b",
        "outputId": "35847288-37cd-445f-ff0b-3e03627faebf"
      },
      "execution_count": null,
      "outputs": [
        {
          "output_type": "execute_result",
          "data": {
            "text/plain": [
              "[0, 1, 2, 3, 4]"
            ]
          },
          "metadata": {},
          "execution_count": 2
        }
      ]
    },
    {
      "cell_type": "code",
      "source": [
        "'\"Yes,\" they said.'\n"
      ],
      "metadata": {
        "colab": {
          "base_uri": "https://localhost:8080/",
          "height": 35
        },
        "id": "VPUtmcw2j_Ut",
        "outputId": "c251ad3b-db4a-4162-8c71-206c9d6bb0eb"
      },
      "execution_count": null,
      "outputs": [
        {
          "output_type": "execute_result",
          "data": {
            "text/plain": [
              "'\"Yes,\" they said.'"
            ],
            "application/vnd.google.colaboratory.intrinsic+json": {
              "type": "string"
            }
          },
          "metadata": {},
          "execution_count": 25
        }
      ]
    },
    {
      "cell_type": "code",
      "source": [
        "\n",
        "\"doesn't\"  # ...or use double quotes instead\n"
      ],
      "metadata": {
        "colab": {
          "base_uri": "https://localhost:8080/",
          "height": 35
        },
        "id": "7WwfIqyskFDM",
        "outputId": "fe465a51-7a96-4994-a059-7bfa30a25257"
      },
      "execution_count": null,
      "outputs": [
        {
          "output_type": "execute_result",
          "data": {
            "text/plain": [
              "\"doesn't\""
            ],
            "application/vnd.google.colaboratory.intrinsic+json": {
              "type": "string"
            }
          },
          "metadata": {},
          "execution_count": 23
        }
      ]
    },
    {
      "cell_type": "code",
      "execution_count": null,
      "metadata": {
        "colab": {
          "base_uri": "https://localhost:8080/"
        },
        "id": "UguMLpE7gtYB",
        "outputId": "69c1d736-d8ab-4424-8e9c-5d807f494cd8"
      },
      "outputs": [
        {
          "output_type": "execute_result",
          "data": {
            "text/plain": [
              "113.06"
            ]
          },
          "metadata": {},
          "execution_count": 21
        }
      ],
      "source": [
        "tax = 12.5 / 100\n",
        "price = 100.50\n",
        "price * tax\n",
        "\n",
        "price + _\n",
        "\n",
        "round(_, 2)\n"
      ]
    },
    {
      "cell_type": "code",
      "source": [
        "tax = 12.5 / 100\n",
        "price = 100.50\n",
        "price * tax"
      ],
      "metadata": {
        "colab": {
          "base_uri": "https://localhost:8080/"
        },
        "id": "fPAhH6VUiZ79",
        "outputId": "e3219d9a-9100-4147-8168-b03f342a9a58"
      },
      "execution_count": null,
      "outputs": [
        {
          "output_type": "execute_result",
          "data": {
            "text/plain": [
              "12.5625"
            ]
          },
          "metadata": {},
          "execution_count": 10
        }
      ]
    },
    {
      "cell_type": "markdown",
      "source": [
        "Assign the value of the last chacter of lst to the variable output. Do this so that the length of lst doesn’t matter."
      ],
      "metadata": {
        "id": "qHN86g4h9YRa"
      }
    },
    {
      "cell_type": "code",
      "source": [
        "lst = \"Every chess or checkers game begins from the same position and has a finite number of moves that can be played. While the number of possible scenarios and moves is quite large, it is still possible for computers to calculate that number and even be programmed to respond well against a human player...\"\n",
        "output = lst[-1]\n",
        "print(output)"
      ],
      "metadata": {
        "colab": {
          "base_uri": "https://localhost:8080/"
        },
        "id": "93pE7_uN9dJq",
        "outputId": "cab46226-fad3-4381-9716-dccad94f33bf"
      },
      "execution_count": null,
      "outputs": [
        {
          "output_type": "stream",
          "name": "stdout",
          "text": [
            ".\n"
          ]
        }
      ]
    },
    {
      "cell_type": "markdown",
      "source": [
        "Assign the number of elements in lst to the variable num_lst."
      ],
      "metadata": {
        "id": "RpBB7qho-uqH"
      }
    },
    {
      "cell_type": "code",
      "source": [
        "lst = [\"hi\", \"goodbye\", \"python\", \"106\", \"506\", 91, ['all', 'Paul', 'Jackie', \"UMSI\", 1, \"Stephen\", 4.5], 109, \"chair\", \"pizza\", \"wolverine\", 2017, 3.92, 1817, \"account\", \"readings\", \"papers\", 12, \"facebook\", \"twitter\", 193.2, \"snapchat\", \"leaders and the best\", \"social\", \"1986\", 9, 29, \"holiday\", [\"women\", \"olympics\", \"gold\", \"rio\", 21, \"2016\", \"men\"], \"26trombones\"]\n",
        "num_lst=len(lst)\n",
        "print(num_lst)"
      ],
      "metadata": {
        "colab": {
          "base_uri": "https://localhost:8080/"
        },
        "id": "2BvAfiir-wHr",
        "outputId": "fd30bf4f-4377-4a65-b954-0a2c5e55565e"
      },
      "execution_count": null,
      "outputs": [
        {
          "output_type": "stream",
          "name": "stdout",
          "text": [
            "30\n"
          ]
        }
      ]
    },
    {
      "cell_type": "markdown",
      "source": [
        "Create a new list using the 9th through 12th elements (four items in all) of new_lst and assign it to the variable sub_lst."
      ],
      "metadata": {
        "id": "gxygIM-W_CeW"
      }
    },
    {
      "cell_type": "code",
      "source": [
        "new_lst = [\"computer\", \"luxurious\", \"basket\", \"crime\", 0, 2.49, \"institution\", \"slice\", \"sun\", [\"water\", \"air\", \"fire\", \"earth\"], \"games\", 2.7, \"code\", \"java\", [\"birthday\", \"celebration\", 1817, \"party\", \"cake\", 5], \"rain\", \"thunderstorm\", \"top down\"]\n",
        "\n",
        "sub_lst=new_lst[8:12]\n",
        "print(sub_lst)\n"
      ],
      "metadata": {
        "colab": {
          "base_uri": "https://localhost:8080/"
        },
        "id": "jzmofuHC_DWw",
        "outputId": "96b967b7-e9c1-480f-d989-78fbff4636b3"
      },
      "execution_count": null,
      "outputs": [
        {
          "output_type": "stream",
          "name": "stdout",
          "text": [
            "['sun', ['water', 'air', 'fire', 'earth'], 'games', 2.7]\n"
          ]
        }
      ]
    },
    {
      "cell_type": "markdown",
      "source": [
        "What will be stored in the variable ty below?"
      ],
      "metadata": {
        "id": "Q9XIoL4O_wU5"
      }
    },
    {
      "cell_type": "code",
      "source": [
        "qu = \"wow, welcome week! Were you wanting to go?\"\n",
        "ty = qu.count(\"we\")\n",
        "print(ty)"
      ],
      "metadata": {
        "colab": {
          "base_uri": "https://localhost:8080/"
        },
        "id": "9sPGQTmh_xnR",
        "outputId": "5936acad-7cd5-4625-fa36-75293fc3b715"
      },
      "execution_count": null,
      "outputs": [
        {
          "output_type": "stream",
          "name": "stdout",
          "text": [
            "2\n"
          ]
        }
      ]
    },
    {
      "cell_type": "markdown",
      "source": [
        "Create a variable output and assign to it a list whose elements are the words in the string str1."
      ],
      "metadata": {
        "id": "qJDzwTybABQj"
      }
    },
    {
      "cell_type": "code",
      "source": [
        "str1 = \"OH THE PLACES YOU'LL GO\"\n",
        "output = str1.split()\n",
        "print(output)"
      ],
      "metadata": {
        "colab": {
          "base_uri": "https://localhost:8080/"
        },
        "id": "ZZJZeyS9AARV",
        "outputId": "9732b3b4-0fc2-4dc6-f649-0380a2b465cf"
      },
      "execution_count": null,
      "outputs": [
        {
          "output_type": "stream",
          "name": "stdout",
          "text": [
            "['OH', 'THE', 'PLACES', \"YOU'LL\", 'GO']\n"
          ]
        }
      ]
    },
    {
      "cell_type": "markdown",
      "source": [
        "How many times will the for loop iterate in the following statements?"
      ],
      "metadata": {
        "id": "0gwGZc5LA53K"
      }
    },
    {
      "cell_type": "code",
      "source": [
        "p = [3, 4, \"Me\", 3, [], \"Why\", 0, \"Tell\", 9.3]\n",
        "for ch in p:\n",
        "   print(ch)"
      ],
      "metadata": {
        "colab": {
          "base_uri": "https://localhost:8080/"
        },
        "id": "-qNJpZyNA7SJ",
        "outputId": "0aae8837-3529-4b12-a4c1-aa86750d2fb0"
      },
      "execution_count": null,
      "outputs": [
        {
          "output_type": "stream",
          "name": "stdout",
          "text": [
            "3\n",
            "4\n",
            "Me\n",
            "3\n",
            "[]\n",
            "Why\n",
            "0\n",
            "Tell\n",
            "9.3\n"
          ]
        }
      ]
    },
    {
      "cell_type": "markdown",
      "source": [
        "Create a list of numbers 0 through 40 and assign this list to the variable numbers. Then, accumulate the total of the list’s values and assign that sum to the variable sum1.\n",
        "\n"
      ],
      "metadata": {
        "id": "gF-RbA5jBO-7"
      }
    },
    {
      "cell_type": "code",
      "source": [
        "numbers=list(range(0,41))\n",
        "sum1=0\n",
        "for number in numbers:\n",
        "  #print(number)\n",
        "  sum1 += number\n",
        "print(sum1)"
      ],
      "metadata": {
        "colab": {
          "base_uri": "https://localhost:8080/"
        },
        "id": "GpoLOSnVBVdz",
        "outputId": "47953bd4-880e-4c28-db90-db3204b1db41"
      },
      "execution_count": null,
      "outputs": [
        {
          "output_type": "stream",
          "name": "stdout",
          "text": [
            "820\n"
          ]
        }
      ]
    },
    {
      "cell_type": "markdown",
      "source": [
        "addition_str is a string with a list of numbers separated by the + sign. Write code that uses the accumulation pattern to take the sum of all of the numbers and assigns it to sum_val (an integer). (You should use the .split(\"+\") function to split by \"+\" and int() to cast to an integer)."
      ],
      "metadata": {
        "id": "HxNwv8E3Db6a"
      }
    },
    {
      "cell_type": "code",
      "source": [
        "addition_str = \"2+5+10+20\"\n",
        "addition_str = addition_str.split(\"+\")\n",
        "sum_val = 0\n",
        "for number in addition_str:\n",
        "  sum_val += int(number)\n",
        "print(sum_val)"
      ],
      "metadata": {
        "colab": {
          "base_uri": "https://localhost:8080/"
        },
        "id": "NlKIJtOWDd13",
        "outputId": "39e7140d-b35e-4cc5-fc26-341450f6ae04"
      },
      "execution_count": null,
      "outputs": [
        {
          "output_type": "stream",
          "name": "stdout",
          "text": [
            "37\n"
          ]
        }
      ]
    },
    {
      "cell_type": "markdown",
      "source": [
        "What is the type of your iterable?\n",
        "1. z = Iterator Variable\n",
        "1. t = iterable"
      ],
      "metadata": {
        "id": "kpf0dT5SEqG4"
      }
    },
    {
      "cell_type": "code",
      "source": [
        "t = (\"couch\", \"chair\", \"washer\", \"dryer\", \"table\")\n",
        "for z in t:\n",
        "    print(z)"
      ],
      "metadata": {
        "id": "DJxcgxLbErJH"
      },
      "execution_count": null,
      "outputs": []
    }
  ]
}